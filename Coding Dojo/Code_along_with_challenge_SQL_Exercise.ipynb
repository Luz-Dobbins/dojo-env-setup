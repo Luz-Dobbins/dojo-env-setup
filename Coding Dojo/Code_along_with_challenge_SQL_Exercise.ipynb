{
 "cells": [
  {
   "cell_type": "markdown",
   "metadata": {
    "id": "r5E8nt0jGE6s"
   },
   "source": [
    "# SQL Exercise\n",
    "\n",
    "<a href=\"https://colab.research.google.com/github/coding-dojo-data-science/week-12-lecture-1-SQL/blob/main/SOLUTIONS%20SQL_Exercise.ipynb\" target=\"_parent\"><img src=\"https://colab.research.google.com/assets/colab-badge.svg\" alt=\"Open In Colab\"/></a>"
   ]
  },
  {
   "cell_type": "markdown",
   "metadata": {
    "id": "AwyFKJDrs-k3"
   },
   "source": [
    "\n",
    "\n",
    "[SQLAlchemy](https://www.sqlalchemy.org/) is a wrapper for Python that allows us to write SQL queries in Python. We will use this to practice our SQL basics in Python.\n",
    "\n",
    "First, we need to connect to a database. We will just read a table into SQL for this step. We will be creating a [SQLite](https://sqlite.org/index.html) database and loading our [data](https://drive.google.com/file/d/18MgOmIHHafoubgp2d_7GM6GWroxb0vPe/view?usp=sharing) into that database."
   ]
  },
  {
   "cell_type": "code",
   "execution_count": 1,
   "metadata": {
    "ExecuteTime": {
     "end_time": "2023-02-14T23:49:48.277147Z",
     "start_time": "2023-02-14T23:49:47.340173Z"
    },
    "id": "v9rTvcEDApP2"
   },
   "outputs": [],
   "source": [
    "# imports\n",
    "import pandas as pd\n",
    "from sqlalchemy import create_engine\n",
    "\n",
    "# adding this to show us all the result without hiding columns \n",
    "# pd.set_option('display.max_columns', None)"
   ]
  },
  {
   "cell_type": "code",
   "execution_count": 2,
   "metadata": {
    "ExecuteTime": {
     "end_time": "2023-02-14T23:49:51.116083Z",
     "start_time": "2023-02-14T23:49:48.278558Z"
    },
    "id": "kutvGwWcBEX5"
   },
   "outputs": [],
   "source": [
    "# Read the data in as a Pandas Dataframe\n",
    "school = pd.read_csv('https://docs.google.com/spreadsheets/d/e/2PACX-1vRtLDEwVA8XXd7-XHjvaU7zkMhlRlFjXExCXJZKdUpa6xrYpyaxUifltjgaN5wTFRA_bg_UXyFOB1p7/pub?gid=1976095986&single=true&output=csv')\n",
    "# load table 2'\n",
    "facility = pd.read_csv('https://docs.google.com/spreadsheets/d/e/2PACX-1vR5UNxWcE8ctwA8OFn2v0RmWfoIEUK_9dUqmXQCV3lbJwZ7JLjdDz6P3YbcFbCMHUxswF07RawZzX0V/pub?gid=601105917&single=true&output=csv')"
   ]
  },
  {
   "cell_type": "code",
   "execution_count": 3,
   "metadata": {
    "ExecuteTime": {
     "end_time": "2023-02-14T23:49:51.147803Z",
     "start_time": "2023-02-14T23:49:51.117023Z"
    },
    "id": "g8zQAMpWx8DW"
   },
   "outputs": [
    {
     "name": "stdout",
     "output_type": "stream",
     "text": [
      "<class 'pandas.core.frame.DataFrame'>\n",
      "RangeIndex: 1249 entries, 0 to 1248\n",
      "Data columns (total 30 columns):\n",
      " #   Column                      Non-Null Count  Dtype  \n",
      "---  ------                      --------------  -----  \n",
      " 0   DistrictName                1249 non-null   object \n",
      " 1   EstablishmentCode           1249 non-null   object \n",
      " 2   EstablishmentName           1249 non-null   object \n",
      " 3   BRCName                     1249 non-null   object \n",
      " 4   CRCName                     1249 non-null   object \n",
      " 5   SchoolLevel                 1246 non-null   object \n",
      " 6   ManagementName              1246 non-null   object \n",
      " 7   LocalityHabitation          1221 non-null   object \n",
      " 8   SubdivisionName             1241 non-null   object \n",
      " 9   ConstituencyName            1249 non-null   object \n",
      " 10  RevenueBlockName            1249 non-null   object \n",
      " 11  CivicBodyName               1249 non-null   object \n",
      " 12  WardName                    1249 non-null   object \n",
      " 13  PostOfficeName              1249 non-null   object \n",
      " 14  PhoneNo                     794 non-null    object \n",
      " 15  FaxNo                       20 non-null     object \n",
      " 16  EmailID                     182 non-null    object \n",
      " 17  Website                     24 non-null     object \n",
      " 18  LocatedInRuralOrUrban       1249 non-null   object \n",
      " 19  DiseCode                    439 non-null    object \n",
      " 20  EstablishedDate             1230 non-null   object \n",
      " 21  DistrictHQDistance (in Km)  1246 non-null   float64\n",
      " 22  CRCDistance (in Km)         1246 non-null   float64\n",
      " 23  BACDistance (in Km)         1246 non-null   float64\n",
      " 24  IsRecognized                1246 non-null   object \n",
      " 25  RecognizedBy                1004 non-null   object \n",
      " 26  ContactPersonName           0 non-null      float64\n",
      " 27  LowestClass                 1246 non-null   object \n",
      " 28  HighestClass                1246 non-null   object \n",
      " 29  BoardName                   784 non-null    object \n",
      "dtypes: float64(4), object(26)\n",
      "memory usage: 292.9+ KB\n"
     ]
    }
   ],
   "source": [
    "school.info()"
   ]
  },
  {
   "cell_type": "code",
   "execution_count": 4,
   "metadata": {
    "ExecuteTime": {
     "end_time": "2023-02-14T23:49:51.163803Z",
     "start_time": "2023-02-14T23:49:51.150801Z"
    },
    "id": "SRLAk3WWS6Em"
   },
   "outputs": [
    {
     "name": "stdout",
     "output_type": "stream",
     "text": [
      "<class 'pandas.core.frame.DataFrame'>\n",
      "RangeIndex: 1256 entries, 0 to 1255\n",
      "Data columns (total 11 columns):\n",
      " #   Column                      Non-Null Count  Dtype \n",
      "---  ------                      --------------  ----- \n",
      " 0   EstablishmentCode           1256 non-null   object\n",
      " 1   EstablishmentName           1256 non-null   object\n",
      " 2   IsLibraryAvailable          1256 non-null   object\n",
      " 3   AvailableBooksCount         1256 non-null   int64 \n",
      " 4   IsFireExtgAvailable         1256 non-null   object\n",
      " 5   ExtinguisherCount           1256 non-null   int64 \n",
      " 6   HOIRoomAvailable            1256 non-null   object\n",
      " 7   IsStaffRoomAvailable        1256 non-null   object\n",
      " 8   NoofStaffRoom               1256 non-null   int64 \n",
      " 9   IsLockerForStaffAvailable   1256 non-null   object\n",
      " 10  IsSportsStoreRoomAvailable  1256 non-null   object\n",
      "dtypes: int64(3), object(8)\n",
      "memory usage: 108.1+ KB\n"
     ]
    }
   ],
   "source": [
    "facility.info()"
   ]
  },
  {
   "cell_type": "markdown",
   "metadata": {
    "id": "QYu2zOj8vlv_"
   },
   "source": [
    "### Create a SQLite Database"
   ]
  },
  {
   "cell_type": "code",
   "execution_count": 5,
   "metadata": {
    "ExecuteTime": {
     "end_time": "2023-02-14T23:49:51.195022Z",
     "start_time": "2023-02-14T23:49:51.164797Z"
    },
    "id": "c0PCa_xzBLZR"
   },
   "outputs": [],
   "source": [
    "# create sqlite engine and create empty database name school\n",
    "\n",
    "engine = create_engine('sqlite:///school.db', echo=True)\n",
    "\n",
    "# create connection to engine\n",
    "conn = engine.connect()"
   ]
  },
  {
   "cell_type": "code",
   "execution_count": 6,
   "metadata": {
    "ExecuteTime": {
     "end_time": "2023-02-14T23:49:51.226001Z",
     "start_time": "2023-02-14T23:49:51.195934Z"
    },
    "id": "JqOzqOa9BOVB"
   },
   "outputs": [
    {
     "name": "stdout",
     "output_type": "stream",
     "text": [
      "2023-04-18 22:16:14,667 INFO sqlalchemy.engine.Engine PRAGMA main.table_info(\"schools\")\n",
      "2023-04-18 22:16:14,668 INFO sqlalchemy.engine.Engine [raw sql] ()\n",
      "2023-04-18 22:16:14,669 INFO sqlalchemy.engine.Engine PRAGMA temp.table_info(\"schools\")\n",
      "2023-04-18 22:16:14,669 INFO sqlalchemy.engine.Engine [raw sql] ()\n",
      "2023-04-18 22:16:14,672 INFO sqlalchemy.engine.Engine \n",
      "CREATE TABLE schools (\n",
      "\t\"index\" BIGINT, \n",
      "\t\"DistrictName\" TEXT, \n",
      "\t\"EstablishmentCode\" TEXT, \n",
      "\t\"EstablishmentName\" TEXT, \n",
      "\t\"BRCName\" TEXT, \n",
      "\t\"CRCName\" TEXT, \n",
      "\t\"SchoolLevel\" TEXT, \n",
      "\t\"ManagementName\" TEXT, \n",
      "\t\"LocalityHabitation\" TEXT, \n",
      "\t\"SubdivisionName\" TEXT, \n",
      "\t\"ConstituencyName\" TEXT, \n",
      "\t\"RevenueBlockName\" TEXT, \n",
      "\t\"CivicBodyName\" TEXT, \n",
      "\t\"WardName\" TEXT, \n",
      "\t\"PostOfficeName\" TEXT, \n",
      "\t\"PhoneNo\" TEXT, \n",
      "\t\"FaxNo\" TEXT, \n",
      "\t\"EmailID\" TEXT, \n",
      "\t\"Website\" TEXT, \n",
      "\t\"LocatedInRuralOrUrban\" TEXT, \n",
      "\t\"DiseCode\" TEXT, \n",
      "\t\"EstablishedDate\" TEXT, \n",
      "\t\"DistrictHQDistance (in Km)\" FLOAT, \n",
      "\t\"CRCDistance (in Km)\" FLOAT, \n",
      "\t\"BACDistance (in Km)\" FLOAT, \n",
      "\t\"IsRecognized\" TEXT, \n",
      "\t\"RecognizedBy\" TEXT, \n",
      "\t\"ContactPersonName\" FLOAT, \n",
      "\t\"LowestClass\" TEXT, \n",
      "\t\"HighestClass\" TEXT, \n",
      "\t\"BoardName\" TEXT\n",
      ")\n",
      "\n",
      "\n",
      "2023-04-18 22:16:14,673 INFO sqlalchemy.engine.Engine [no key 0.00052s] ()\n",
      "2023-04-18 22:16:14,683 INFO sqlalchemy.engine.Engine COMMIT\n",
      "2023-04-18 22:16:14,684 INFO sqlalchemy.engine.Engine CREATE INDEX ix_schools_index ON schools (\"index\")\n",
      "2023-04-18 22:16:14,685 INFO sqlalchemy.engine.Engine [no key 0.00050s] ()\n",
      "2023-04-18 22:16:14,691 INFO sqlalchemy.engine.Engine COMMIT\n",
      "2023-04-18 22:16:14,708 INFO sqlalchemy.engine.Engine INSERT INTO schools (\"index\", \"DistrictName\", \"EstablishmentCode\", \"EstablishmentName\", \"BRCName\", \"CRCName\", \"SchoolLevel\", \"ManagementName\", \"LocalityHabitation\", \"SubdivisionName\", \"ConstituencyName\", \"RevenueBlockName\", \"CivicBodyName\", \"WardName\", \"PostOfficeName\", \"PhoneNo\", \"FaxNo\", \"EmailID\", \"Website\", \"LocatedInRuralOrUrban\", \"DiseCode\", \"EstablishedDate\", \"DistrictHQDistance (in Km)\", \"CRCDistance (in Km)\", \"BACDistance (in Km)\", \"IsRecognized\", \"RecognizedBy\", \"ContactPersonName\", \"LowestClass\", \"HighestClass\", \"BoardName\") VALUES (?, ?, ?, ?, ?, ?, ?, ?, ?, ?, ?, ?, ?, ?, ?, ?, ?, ?, ?, ?, ?, ?, ?, ?, ?, ?, ?, ?, ?, ?, ?)\n",
      "2023-04-18 22:16:14,709 INFO sqlalchemy.engine.Engine [generated in 0.00922s] ((0, 'East', 'S0169', 'BUDANG GOVERNMENT PRIMARY SCHOOL (E)', 'Duga Brc', 'Central Pendam Government Senior Secondary School', 'PS', 'State Govt.', 'BUDANG', 'Gangtok', 'Rhenock', 'Central Pendam', 'Central Pendam', 'Sajong', 'Upper Pendam', None, None, None, None, 'Urban Area', None, '28126', 58.0, 8.0, 16.0, 'Recognized', 'HRDD', None, 'Class 1', 'Class 5', None), (1, 'East', 'S0099', 'CENTRAL PENDAM GOVERNMENT SENIOR SECONDARY SCHOOL', 'Duga Brc', 'Central Pendam Government Senior Secondary School', 'SSS', 'State Govt.', 'CENTRAL PENDAM', 'Gangtok', 'West Pandam', 'Central Pendam', 'Central Pendam', 'Karmithang', 'Upper Pendam', '3592263812', None, None, None, 'Urban Area', '800401', '15342', 50.0, 0.0, 6.0, 'Recognized', 'HRDD', None, 'Class 1', 'Class 12', 'C.B.S.E.'), (2, 'East', 'S0848', 'CENTRAL POINT ACADEMY, CENTRAL PENDAM', 'Duga Brc', 'Central Pendam Government Senior Secondary School', 'SS', 'Private (Unaided)', 'UPPER BHURUNG CENTRAL PENDAM', 'Gangtok', 'West Pandam', 'Central Pendam', 'Central Pendam', 'Burung', 'Upper Pendam', '03592263809/263960', None, 'ksu_5162@yahoo.com', 'www.facebook.com/khanalkeshav (Group-CPA)', 'Urban Area', None, '37257.38681', 49.0, 1.5, 6.0, 'Recognized', 'HRDD, GOVT. OF SIKKIM', None, 'Class 1', 'Class 10', 'C.B.S.E.'), (3, 'East', 'S0190', 'CHEURIBOTEY GOVERNMENT JUNIOR HIGH SCHOOL (E)', 'Duga Brc', 'Central Pendam Government Senior Secondary School', 'JHS', 'State Govt.', 'CHEURIBOTEY', 'Gangtok', 'West Pandam', 'Central Pendam', 'Central Pendam', 'Cheuribotey', 'Duga', None, None, None, None, 'Urban Area', None, '28856', 60.0, 6.0, 6.0, 'Recognized', 'State Govt.', None, 'Class 1', 'Class 8', None), (4, 'East', 'S0111', 'DUGA GOVERNMENT SECONDARY SCHOOL', 'Duga Brc', 'Central Pendam Government Senior Secondary School', 'SS', 'State Govt.', 'DUGA', 'Gangtok', 'West Pandam', 'Central Pendam', 'Central Pendam', 'Duga', 'Duga', '9832082915', None, 'dugaschool@gmail.com', None, 'Urban Area', None, '1828', 52.0, 0.0, 0.5, 'Recognized', 'c.b.s.e.', None, 'Class 1', 'Class 10', 'C.B.S.E.'), (5, 'East', 'S0856', 'EASWARAMMA SAI GURUKOOL ACCADEMY', 'Duga Brc', 'Central Pendam Government Senior Secondary School', 'PS', 'Private (Unaided)', 'RALUNG', 'Gangtok', 'West Pandam', 'Central Pendam', 'West Pendam', 'Ralang', 'West Pendam', '9733056624', None, None, None, 'Urban Area', None, '40179.66806', 0.0, 0.2, 0.2, 'Recognized', None, None, 'Class 1', 'Class 5', None), (6, 'East', 'S0870', 'ETERNAL ENGLISH SCHOOL, WEST PENDAM', 'Duga Brc', 'Central Pendam Government Senior Secondary School', 'PS', 'Private (Unaided)', 'SAKHU WEST PENDAM', 'Gangtok', 'West Pandam', 'West Pendam', 'West Pendam', 'Sakhu', 'Sakhu Busty', '9734190544', None, None, None, 'Urban Area', None, '37300.66806', 42.0, 3.0, 4.0, 'Recognized', 'HRDD OF SIKKIM', None, 'Class 1', 'Class 5', None), (7, 'East', 'S0157', 'KHANI GOAN GOVERNMENT PRIMARY SCHOOL', 'Duga Brc', 'Central Pendam Government Senior Secondary School', 'PS', 'State Govt.', 'WEST PENDAM', 'Gangtok', 'West Pandam', 'West Pendam', 'West Pendam', 'Khanigaon', 'West Pendam', '9832470263', None, None, None, 'Urban Area', '801801', '29587', 45.0, 5.0, 4.0, 'Recognized', 'State Govt.', None, 'Class 1', 'Class 5', 'C.B.S.E.')  ... displaying 10 of 1249 total bound parameter sets ...  (1247, 'West', 'S0340', 'TINGTING GAON GOVERNMENT PRIMARY SCHOOL', 'Yuksom Brc', 'Yuksom Government Secondary School', 'PS', 'State Govt.', 'TING TING GAON', 'Gyalshing', 'Yoksam-Tashiding', 'Yoksam', 'Yuksom', 'Tingting', 'Yuksom', '9593377402', None, None, None, 'Urban Area', '100282', '29587', 36.0, 3.0, 6.0, 'Recognized', 'STATE GOVERNMENT', None, 'Class 1', 'Class 5', None), (1248, 'West', 'S0542', 'TSONG GOVERNMENT PRIMARY SCHOOL', 'Yuksom Brc', 'Yuksom Government Secondary School', 'PS', 'State Govt.', 'TSONG', 'Gyalshing', 'Yoksam-Tashiding', 'Yoksam', 'Yuksom', 'Yoksam', 'Yuksom', None, None, None, None, 'Urban Area', None, '28176', 40.0, 7.0, 8.0, 'Recognized', 'State Government', None, 'Class 1', 'Class 5', 'C.B.S.E.'))\n",
      "2023-04-18 22:16:14,715 INFO sqlalchemy.engine.Engine COMMIT\n",
      "2023-04-18 22:16:14,724 INFO sqlalchemy.engine.Engine PRAGMA main.table_info(\"facilities\")\n",
      "2023-04-18 22:16:14,724 INFO sqlalchemy.engine.Engine [raw sql] ()\n",
      "2023-04-18 22:16:14,725 INFO sqlalchemy.engine.Engine PRAGMA temp.table_info(\"facilities\")\n",
      "2023-04-18 22:16:14,725 INFO sqlalchemy.engine.Engine [raw sql] ()\n",
      "2023-04-18 22:16:14,726 INFO sqlalchemy.engine.Engine \n",
      "CREATE TABLE facilities (\n",
      "\t\"index\" BIGINT, \n",
      "\t\"EstablishmentCode\" TEXT, \n",
      "\t\"EstablishmentName\" TEXT, \n",
      "\t\"IsLibraryAvailable\" TEXT, \n",
      "\t\"AvailableBooksCount\" BIGINT, \n",
      "\t\"IsFireExtgAvailable\" TEXT, \n",
      "\t\"ExtinguisherCount\" BIGINT, \n",
      "\t\"HOIRoomAvailable\" TEXT, \n",
      "\t\"IsStaffRoomAvailable\" TEXT, \n",
      "\t\"NoofStaffRoom\" BIGINT, \n",
      "\t\"IsLockerForStaffAvailable\" TEXT, \n",
      "\t\"IsSportsStoreRoomAvailable\" TEXT\n",
      ")\n",
      "\n",
      "\n",
      "2023-04-18 22:16:14,726 INFO sqlalchemy.engine.Engine [no key 0.00027s] ()\n",
      "2023-04-18 22:16:14,732 INFO sqlalchemy.engine.Engine COMMIT\n",
      "2023-04-18 22:16:14,732 INFO sqlalchemy.engine.Engine CREATE INDEX ix_facilities_index ON facilities (\"index\")\n",
      "2023-04-18 22:16:14,733 INFO sqlalchemy.engine.Engine [no key 0.00025s] ()\n",
      "2023-04-18 22:16:14,738 INFO sqlalchemy.engine.Engine COMMIT\n",
      "2023-04-18 22:16:14,745 INFO sqlalchemy.engine.Engine INSERT INTO facilities (\"index\", \"EstablishmentCode\", \"EstablishmentName\", \"IsLibraryAvailable\", \"AvailableBooksCount\", \"IsFireExtgAvailable\", \"ExtinguisherCount\", \"HOIRoomAvailable\", \"IsStaffRoomAvailable\", \"NoofStaffRoom\", \"IsLockerForStaffAvailable\", \"IsSportsStoreRoomAvailable\") VALUES (?, ?, ?, ?, ?, ?, ?, ?, ?, ?, ?, ?)\n",
      "2023-04-18 22:16:14,746 INFO sqlalchemy.engine.Engine [generated in 0.00389s] ((0, 'S1034', '(I.E.C) INDIAN EVANGALISTIC CRUSADE MISSION PRIMARY SCHOOL, RIMBI', 'Not Available', 0, 'Available', 1, 'Available', 'Not Available', 0, 'Not Available', 'Not Available'), (1, 'S0516', '10TH MILE GOVERNMENT PRIMARY SCHOOL', 'Not Available', 0, 'Not Available', 0, 'Available', 'Available', 1, 'Not Available', 'Not Available'), (2, 'S0237', '4TH MILE GOVERNMENT JUNIOR HIGH SCHOOL', 'Not Available', 0, 'Available', 2, 'Not Available', 'Not Available', 0, 'Not Available', 'Not Available'), (3, 'S0692', 'AAPGAZI GOVERNMENT PRIMARY SCHOOL', 'Not Available', 0, 'Not Available', 0, 'Not Available', 'Not Available', 0, 'Not Available', 'Not Available'), (4, 'S0374', 'AARUBOTEY GOVERNMENT PRIMARY SCHOOL', 'Not Available', 0, 'Available', 2, 'Not Available', 'Not Available', 0, 'Not Available', 'Not Available'), (5, 'S0218', 'ADAMPOOL GOVERNMENT JUNIOR HIGH SCHOOL', 'Available', 217, 'Available', 5, 'Available', 'Available', 1, 'Available', 'Not Available'), (6, 'S1064', 'ADONAI HOMES , NAYA BAZAR', 'Available', 0, 'Available', 0, 'Not Available', 'Available', 2, 'Not Available', 'Available'), (7, 'C1348', 'ADVANCED TECHNICAL TRAINING CENTRE', 'Available', 0, 'Available', 0, 'Available', 'Available', 0, 'Available', 'Available')  ... displaying 10 of 1256 total bound parameter sets ...  (1254, 'S0185', 'ZITLANG GOVERNMENT JUNIOR HIGH SCHOOL', 'Available', 0, 'Available', 5, 'Not Available', 'Available', 1, 'Not Available', 'Not Available'), (1255, 'S0267', 'ZOOM GOVERNMENT SECONDARY SCHOOL', 'Not Available', 0, 'Available', 6, 'Available', 'Available', 1, 'Available', 'Not Available'))\n"
     ]
    },
    {
     "name": "stdout",
     "output_type": "stream",
     "text": [
      "2023-04-18 22:16:14,749 INFO sqlalchemy.engine.Engine COMMIT\n"
     ]
    }
   ],
   "source": [
    "# add the school dataframe as a table in sqlite\n",
    "sqlite_table1 = 'schools'\n",
    "try:\n",
    "  school.to_sql('schools', conn, if_exists='fail')\n",
    "except:\n",
    "  pass\n",
    "\n",
    "# add the facility dataframe as a table in sqlite\n",
    "\n",
    "sqlite_table2 = 'facilities'\n",
    "try:\n",
    "  facility.to_sql(sqlite_table2, conn, if_exists='fail')\n",
    "except:\n",
    "  pass\n"
   ]
  },
  {
   "cell_type": "markdown",
   "metadata": {
    "id": "4oVXqFLzzGUm"
   },
   "source": [
    "- Let's examine the first 5 rows of the schools table"
   ]
  },
  {
   "cell_type": "code",
   "execution_count": 7,
   "metadata": {
    "ExecuteTime": {
     "end_time": "2023-02-14T23:49:51.289099Z",
     "start_time": "2023-02-14T23:49:51.227997Z"
    },
    "id": "Gholo-DezF2g"
   },
   "outputs": [
    {
     "name": "stdout",
     "output_type": "stream",
     "text": [
      "2023-04-18 22:16:14,769 INFO sqlalchemy.engine.Engine \n",
      "\n",
      "\n",
      "2023-04-18 22:16:14,770 INFO sqlalchemy.engine.Engine [raw sql] ()\n"
     ]
    },
    {
     "ename": "ResourceClosedError",
     "evalue": "This result object does not return rows. It has been closed automatically.",
     "output_type": "error",
     "traceback": [
      "\u001b[1;31m---------------------------------------------------------------------------\u001b[0m",
      "\u001b[1;31mResourceClosedError\u001b[0m                       Traceback (most recent call last)",
      "Cell \u001b[1;32mIn [7], line 7\u001b[0m\n\u001b[0;32m      3\u001b[0m query \u001b[38;5;241m=\u001b[39m \u001b[38;5;124m\"\"\"\u001b[39m\n\u001b[0;32m      4\u001b[0m \n\u001b[0;32m      5\u001b[0m \u001b[38;5;124m\"\"\"\u001b[39m\n\u001b[0;32m      6\u001b[0m \u001b[38;5;66;03m# Read the sql query into pandas to view the results\u001b[39;00m\n\u001b[1;32m----> 7\u001b[0m df \u001b[38;5;241m=\u001b[39m \u001b[43mpd\u001b[49m\u001b[38;5;241;43m.\u001b[39;49m\u001b[43mread_sql_query\u001b[49m\u001b[43m(\u001b[49m\u001b[43mquery\u001b[49m\u001b[43m,\u001b[49m\u001b[43m \u001b[49m\u001b[43mconn\u001b[49m\u001b[43m)\u001b[49m\n\u001b[0;32m      8\u001b[0m df\n",
      "File \u001b[1;32m~\\anaconda3\\envs\\dojo-env\\lib\\site-packages\\pandas\\io\\sql.py:397\u001b[0m, in \u001b[0;36mread_sql_query\u001b[1;34m(sql, con, index_col, coerce_float, params, parse_dates, chunksize, dtype)\u001b[0m\n\u001b[0;32m    339\u001b[0m \u001b[38;5;124;03m\"\"\"\u001b[39;00m\n\u001b[0;32m    340\u001b[0m \u001b[38;5;124;03mRead SQL query into a DataFrame.\u001b[39;00m\n\u001b[0;32m    341\u001b[0m \n\u001b[1;32m   (...)\u001b[0m\n\u001b[0;32m    394\u001b[0m \u001b[38;5;124;03mparameter will be converted to UTC.\u001b[39;00m\n\u001b[0;32m    395\u001b[0m \u001b[38;5;124;03m\"\"\"\u001b[39;00m\n\u001b[0;32m    396\u001b[0m pandas_sql \u001b[38;5;241m=\u001b[39m pandasSQL_builder(con)\n\u001b[1;32m--> 397\u001b[0m \u001b[38;5;28;01mreturn\u001b[39;00m \u001b[43mpandas_sql\u001b[49m\u001b[38;5;241;43m.\u001b[39;49m\u001b[43mread_query\u001b[49m\u001b[43m(\u001b[49m\n\u001b[0;32m    398\u001b[0m \u001b[43m    \u001b[49m\u001b[43msql\u001b[49m\u001b[43m,\u001b[49m\n\u001b[0;32m    399\u001b[0m \u001b[43m    \u001b[49m\u001b[43mindex_col\u001b[49m\u001b[38;5;241;43m=\u001b[39;49m\u001b[43mindex_col\u001b[49m\u001b[43m,\u001b[49m\n\u001b[0;32m    400\u001b[0m \u001b[43m    \u001b[49m\u001b[43mparams\u001b[49m\u001b[38;5;241;43m=\u001b[39;49m\u001b[43mparams\u001b[49m\u001b[43m,\u001b[49m\n\u001b[0;32m    401\u001b[0m \u001b[43m    \u001b[49m\u001b[43mcoerce_float\u001b[49m\u001b[38;5;241;43m=\u001b[39;49m\u001b[43mcoerce_float\u001b[49m\u001b[43m,\u001b[49m\n\u001b[0;32m    402\u001b[0m \u001b[43m    \u001b[49m\u001b[43mparse_dates\u001b[49m\u001b[38;5;241;43m=\u001b[39;49m\u001b[43mparse_dates\u001b[49m\u001b[43m,\u001b[49m\n\u001b[0;32m    403\u001b[0m \u001b[43m    \u001b[49m\u001b[43mchunksize\u001b[49m\u001b[38;5;241;43m=\u001b[39;49m\u001b[43mchunksize\u001b[49m\u001b[43m,\u001b[49m\n\u001b[0;32m    404\u001b[0m \u001b[43m    \u001b[49m\u001b[43mdtype\u001b[49m\u001b[38;5;241;43m=\u001b[39;49m\u001b[43mdtype\u001b[49m\u001b[43m,\u001b[49m\n\u001b[0;32m    405\u001b[0m \u001b[43m\u001b[49m\u001b[43m)\u001b[49m\n",
      "File \u001b[1;32m~\\anaconda3\\envs\\dojo-env\\lib\\site-packages\\pandas\\io\\sql.py:1574\u001b[0m, in \u001b[0;36mSQLDatabase.read_query\u001b[1;34m(self, sql, index_col, coerce_float, parse_dates, params, chunksize, dtype)\u001b[0m\n\u001b[0;32m   1564\u001b[0m     \u001b[38;5;28;01mreturn\u001b[39;00m \u001b[38;5;28mself\u001b[39m\u001b[38;5;241m.\u001b[39m_query_iterator(\n\u001b[0;32m   1565\u001b[0m         result,\n\u001b[0;32m   1566\u001b[0m         chunksize,\n\u001b[1;32m   (...)\u001b[0m\n\u001b[0;32m   1571\u001b[0m         dtype\u001b[38;5;241m=\u001b[39mdtype,\n\u001b[0;32m   1572\u001b[0m     )\n\u001b[0;32m   1573\u001b[0m \u001b[38;5;28;01melse\u001b[39;00m:\n\u001b[1;32m-> 1574\u001b[0m     data \u001b[38;5;241m=\u001b[39m \u001b[43mresult\u001b[49m\u001b[38;5;241;43m.\u001b[39;49m\u001b[43mfetchall\u001b[49m\u001b[43m(\u001b[49m\u001b[43m)\u001b[49m\n\u001b[0;32m   1575\u001b[0m     frame \u001b[38;5;241m=\u001b[39m _wrap_result(\n\u001b[0;32m   1576\u001b[0m         data,\n\u001b[0;32m   1577\u001b[0m         columns,\n\u001b[1;32m   (...)\u001b[0m\n\u001b[0;32m   1581\u001b[0m         dtype\u001b[38;5;241m=\u001b[39mdtype,\n\u001b[0;32m   1582\u001b[0m     )\n\u001b[0;32m   1583\u001b[0m     \u001b[38;5;28;01mreturn\u001b[39;00m frame\n",
      "File \u001b[1;32m~\\anaconda3\\envs\\dojo-env\\lib\\site-packages\\sqlalchemy\\engine\\result.py:1024\u001b[0m, in \u001b[0;36mResult.fetchall\u001b[1;34m(self)\u001b[0m\n\u001b[0;32m   1021\u001b[0m \u001b[38;5;28;01mdef\u001b[39;00m \u001b[38;5;21mfetchall\u001b[39m(\u001b[38;5;28mself\u001b[39m):\n\u001b[0;32m   1022\u001b[0m     \u001b[38;5;124;03m\"\"\"A synonym for the :meth:`_engine.Result.all` method.\"\"\"\u001b[39;00m\n\u001b[1;32m-> 1024\u001b[0m     \u001b[38;5;28;01mreturn\u001b[39;00m \u001b[38;5;28;43mself\u001b[39;49m\u001b[38;5;241;43m.\u001b[39;49m\u001b[43m_allrows\u001b[49m\u001b[43m(\u001b[49m\u001b[43m)\u001b[49m\n",
      "File \u001b[1;32m~\\anaconda3\\envs\\dojo-env\\lib\\site-packages\\sqlalchemy\\engine\\result.py:399\u001b[0m, in \u001b[0;36mResultInternal._allrows\u001b[1;34m(self)\u001b[0m\n\u001b[0;32m    395\u001b[0m \u001b[38;5;28;01mdef\u001b[39;00m \u001b[38;5;21m_allrows\u001b[39m(\u001b[38;5;28mself\u001b[39m):\n\u001b[0;32m    397\u001b[0m     post_creational_filter \u001b[38;5;241m=\u001b[39m \u001b[38;5;28mself\u001b[39m\u001b[38;5;241m.\u001b[39m_post_creational_filter\n\u001b[1;32m--> 399\u001b[0m     make_row \u001b[38;5;241m=\u001b[39m \u001b[38;5;28;43mself\u001b[39;49m\u001b[38;5;241;43m.\u001b[39;49m\u001b[43m_row_getter\u001b[49m\n\u001b[0;32m    401\u001b[0m     rows \u001b[38;5;241m=\u001b[39m \u001b[38;5;28mself\u001b[39m\u001b[38;5;241m.\u001b[39m_fetchall_impl()\n\u001b[0;32m    402\u001b[0m     \u001b[38;5;28;01mif\u001b[39;00m make_row:\n",
      "File \u001b[1;32m~\\anaconda3\\envs\\dojo-env\\lib\\site-packages\\sqlalchemy\\util\\langhelpers.py:1184\u001b[0m, in \u001b[0;36mHasMemoized.memoized_attribute.__get__\u001b[1;34m(self, obj, cls)\u001b[0m\n\u001b[0;32m   1182\u001b[0m \u001b[38;5;28;01mif\u001b[39;00m obj \u001b[38;5;129;01mis\u001b[39;00m \u001b[38;5;28;01mNone\u001b[39;00m:\n\u001b[0;32m   1183\u001b[0m     \u001b[38;5;28;01mreturn\u001b[39;00m \u001b[38;5;28mself\u001b[39m\n\u001b[1;32m-> 1184\u001b[0m obj\u001b[38;5;241m.\u001b[39m\u001b[38;5;18m__dict__\u001b[39m[\u001b[38;5;28mself\u001b[39m\u001b[38;5;241m.\u001b[39m\u001b[38;5;18m__name__\u001b[39m] \u001b[38;5;241m=\u001b[39m result \u001b[38;5;241m=\u001b[39m \u001b[38;5;28;43mself\u001b[39;49m\u001b[38;5;241;43m.\u001b[39;49m\u001b[43mfget\u001b[49m\u001b[43m(\u001b[49m\u001b[43mobj\u001b[49m\u001b[43m)\u001b[49m\n\u001b[0;32m   1185\u001b[0m obj\u001b[38;5;241m.\u001b[39m_memoized_keys \u001b[38;5;241m|\u001b[39m\u001b[38;5;241m=\u001b[39m {\u001b[38;5;28mself\u001b[39m\u001b[38;5;241m.\u001b[39m\u001b[38;5;18m__name__\u001b[39m}\n\u001b[0;32m   1186\u001b[0m \u001b[38;5;28;01mreturn\u001b[39;00m result\n",
      "File \u001b[1;32m~\\anaconda3\\envs\\dojo-env\\lib\\site-packages\\sqlalchemy\\engine\\result.py:320\u001b[0m, in \u001b[0;36mResultInternal._row_getter\u001b[1;34m(self)\u001b[0m\n\u001b[0;32m    317\u001b[0m key_style \u001b[38;5;241m=\u001b[39m real_result\u001b[38;5;241m.\u001b[39m_process_row\u001b[38;5;241m.\u001b[39m_default_key_style\n\u001b[0;32m    318\u001b[0m metadata \u001b[38;5;241m=\u001b[39m \u001b[38;5;28mself\u001b[39m\u001b[38;5;241m.\u001b[39m_metadata\n\u001b[1;32m--> 320\u001b[0m keymap \u001b[38;5;241m=\u001b[39m \u001b[43mmetadata\u001b[49m\u001b[38;5;241;43m.\u001b[39;49m\u001b[43m_keymap\u001b[49m\n\u001b[0;32m    321\u001b[0m processors \u001b[38;5;241m=\u001b[39m metadata\u001b[38;5;241m.\u001b[39m_processors\n\u001b[0;32m    322\u001b[0m tf \u001b[38;5;241m=\u001b[39m metadata\u001b[38;5;241m.\u001b[39m_tuplefilter\n",
      "File \u001b[1;32m~\\anaconda3\\envs\\dojo-env\\lib\\site-packages\\sqlalchemy\\engine\\cursor.py:1208\u001b[0m, in \u001b[0;36m_NoResultMetaData._keymap\u001b[1;34m(self)\u001b[0m\n\u001b[0;32m   1206\u001b[0m \u001b[38;5;129m@property\u001b[39m\n\u001b[0;32m   1207\u001b[0m \u001b[38;5;28;01mdef\u001b[39;00m \u001b[38;5;21m_keymap\u001b[39m(\u001b[38;5;28mself\u001b[39m):\n\u001b[1;32m-> 1208\u001b[0m     \u001b[38;5;28;43mself\u001b[39;49m\u001b[38;5;241;43m.\u001b[39;49m\u001b[43m_we_dont_return_rows\u001b[49m\u001b[43m(\u001b[49m\u001b[43m)\u001b[49m\n",
      "File \u001b[1;32m~\\anaconda3\\envs\\dojo-env\\lib\\site-packages\\sqlalchemy\\engine\\cursor.py:1189\u001b[0m, in \u001b[0;36m_NoResultMetaData._we_dont_return_rows\u001b[1;34m(self, err)\u001b[0m\n\u001b[0;32m   1188\u001b[0m \u001b[38;5;28;01mdef\u001b[39;00m \u001b[38;5;21m_we_dont_return_rows\u001b[39m(\u001b[38;5;28mself\u001b[39m, err\u001b[38;5;241m=\u001b[39m\u001b[38;5;28;01mNone\u001b[39;00m):\n\u001b[1;32m-> 1189\u001b[0m     \u001b[43mutil\u001b[49m\u001b[38;5;241;43m.\u001b[39;49m\u001b[43mraise_\u001b[49m\u001b[43m(\u001b[49m\n\u001b[0;32m   1190\u001b[0m \u001b[43m        \u001b[49m\u001b[43mexc\u001b[49m\u001b[38;5;241;43m.\u001b[39;49m\u001b[43mResourceClosedError\u001b[49m\u001b[43m(\u001b[49m\n\u001b[0;32m   1191\u001b[0m \u001b[43m            \u001b[49m\u001b[38;5;124;43m\"\u001b[39;49m\u001b[38;5;124;43mThis result object does not return rows. \u001b[39;49m\u001b[38;5;124;43m\"\u001b[39;49m\n\u001b[0;32m   1192\u001b[0m \u001b[43m            \u001b[49m\u001b[38;5;124;43m\"\u001b[39;49m\u001b[38;5;124;43mIt has been closed automatically.\u001b[39;49m\u001b[38;5;124;43m\"\u001b[39;49m\n\u001b[0;32m   1193\u001b[0m \u001b[43m        \u001b[49m\u001b[43m)\u001b[49m\u001b[43m,\u001b[49m\n\u001b[0;32m   1194\u001b[0m \u001b[43m        \u001b[49m\u001b[43mreplace_context\u001b[49m\u001b[38;5;241;43m=\u001b[39;49m\u001b[43merr\u001b[49m\u001b[43m,\u001b[49m\n\u001b[0;32m   1195\u001b[0m \u001b[43m    \u001b[49m\u001b[43m)\u001b[49m\n",
      "File \u001b[1;32m~\\anaconda3\\envs\\dojo-env\\lib\\site-packages\\sqlalchemy\\util\\compat.py:208\u001b[0m, in \u001b[0;36mraise_\u001b[1;34m(***failed resolving arguments***)\u001b[0m\n\u001b[0;32m    205\u001b[0m     exception\u001b[38;5;241m.\u001b[39m__cause__ \u001b[38;5;241m=\u001b[39m replace_context\n\u001b[0;32m    207\u001b[0m \u001b[38;5;28;01mtry\u001b[39;00m:\n\u001b[1;32m--> 208\u001b[0m     \u001b[38;5;28;01mraise\u001b[39;00m exception\n\u001b[0;32m    209\u001b[0m \u001b[38;5;28;01mfinally\u001b[39;00m:\n\u001b[0;32m    210\u001b[0m     \u001b[38;5;66;03m# credit to\u001b[39;00m\n\u001b[0;32m    211\u001b[0m     \u001b[38;5;66;03m# https://cosmicpercolator.com/2016/01/13/exception-leaks-in-python-2-and-3/\u001b[39;00m\n\u001b[0;32m    212\u001b[0m     \u001b[38;5;66;03m# as the __traceback__ object creates a cycle\u001b[39;00m\n\u001b[0;32m    213\u001b[0m     \u001b[38;5;28;01mdel\u001b[39;00m exception, replace_context, from_, with_traceback\n",
      "\u001b[1;31mResourceClosedError\u001b[0m: This result object does not return rows. It has been closed automatically."
     ]
    }
   ],
   "source": [
    "# Using SELECT view schools data\n",
    "\n",
    "query = \"\"\"\n",
    "\n",
    "\"\"\"\n",
    "# Read the sql query into pandas to view the results\n",
    "df = pd.read_sql_query(query, conn)\n",
    "df"
   ]
  },
  {
   "cell_type": "markdown",
   "metadata": {
    "id": "k5rvo0dX9iHZ"
   },
   "source": [
    "Select only the DistrictName and PhoneNo from the schools table"
   ]
  },
  {
   "cell_type": "code",
   "execution_count": null,
   "metadata": {
    "ExecuteTime": {
     "end_time": "2023-02-14T23:49:51.351082Z",
     "start_time": "2023-02-14T23:49:51.290097Z"
    },
    "id": "TcEi5uUBzcc2"
   },
   "outputs": [],
   "source": [
    "# Using SELECT view DistrictName and PhoneNo from school\n",
    "query = \"\"\"\n",
    "\n",
    "\"\"\"\n",
    "# Read the sql query into pandas to view the results\n",
    "df = pd.read_sql_query(query, conn)\n",
    "df"
   ]
  },
  {
   "cell_type": "markdown",
   "metadata": {
    "id": "EemnRaoRBW5x"
   },
   "source": [
    "What is the average BACDistance (in Km)? Rename the output column to \"avg_bac_distance.\""
   ]
  },
  {
   "cell_type": "code",
   "execution_count": null,
   "metadata": {
    "ExecuteTime": {
     "end_time": "2023-02-14T23:49:51.366363Z",
     "start_time": "2023-02-14T23:49:51.351689Z"
    },
    "id": "g8Uule2mBRPl"
   },
   "outputs": [],
   "source": [
    "# What is the average BACDistance (in Km)? Rename the output column to \"avg_bac_distance.\"\n",
    "query = \"\"\"\n",
    "\n",
    "\"\"\"\n",
    "\n",
    "# Read the sql query into pandas to view the results\n",
    "df = pd.read_sql_query(query, conn)\n",
    "df"
   ]
  },
  {
   "cell_type": "markdown",
   "metadata": {
    "id": "0676eUq_ByOR"
   },
   "source": [
    "What is the average BACDistance (in Km) by School Level? Sort the results from highest average to lowest average."
   ]
  },
  {
   "cell_type": "code",
   "execution_count": null,
   "metadata": {
    "id": "tv3GboEOS6Eo"
   },
   "outputs": [],
   "source": [
    "school.head()"
   ]
  },
  {
   "cell_type": "code",
   "execution_count": null,
   "metadata": {
    "id": "IeMEKUZrS6Eo"
   },
   "outputs": [],
   "source": [
    "school['SchoolLevel'].value_counts()"
   ]
  },
  {
   "cell_type": "code",
   "execution_count": null,
   "metadata": {
    "ExecuteTime": {
     "end_time": "2023-02-14T23:49:51.382316Z",
     "start_time": "2023-02-14T23:49:51.369351Z"
    },
    "id": "z_hz06fQB6Dd"
   },
   "outputs": [],
   "source": [
    "# What is the average BACDistance (in Km) by School Level? Sort the results from highest average to lowest average.\n",
    "query = \"\"\"\n",
    "\n",
    "\"\"\"\n",
    "# Read the sql query into pandas to view the results\n",
    "df = pd.read_sql_query(query, conn)\n",
    "df.head()"
   ]
  },
  {
   "cell_type": "markdown",
   "metadata": {
    "id": "ziwVWIhmCTaR"
   },
   "source": [
    "Repeat the previous query, but only display results where the average distance is at least 10 km."
   ]
  },
  {
   "cell_type": "code",
   "execution_count": null,
   "metadata": {
    "ExecuteTime": {
     "end_time": "2023-02-14T23:49:51.397923Z",
     "start_time": "2023-02-14T23:49:51.383961Z"
    },
    "id": "Hqjr-edGCZhr"
   },
   "outputs": [],
   "source": [
    "# Repeat the previous query, but only display results where the average distance is at least 10 km.\n",
    "query = \"\"\"\n",
    "\n",
    "\"\"\"\n",
    "# Read the sql query into pandas to view the results\n",
    "df = pd.read_sql_query(query, conn)\n",
    "df"
   ]
  },
  {
   "cell_type": "markdown",
   "metadata": {
    "id": "UkQ1yVUTDeWq"
   },
   "source": [
    "Join the two tables together (school_details and school_facility_details). Start by displaying all of the columns, but limit the resulting rows to just 2."
   ]
  },
  {
   "cell_type": "code",
   "execution_count": null,
   "metadata": {
    "ExecuteTime": {
     "end_time": "2023-02-14T23:49:51.428841Z",
     "start_time": "2023-02-14T23:49:51.398920Z"
    },
    "id": "Xz5flnPzDn0w"
   },
   "outputs": [],
   "source": [
    "# Join the two tables together (school_details and school_facility_details). \n",
    "# Start by displaying all of the columns, but limit the resulting rows to just 2.\n",
    "query = \"\"\"\n",
    "\n",
    "\"\"\"\n",
    "# Read the sql query into pandas to view the results\n",
    "df = pd.read_sql_query(query, conn)\n",
    "df"
   ]
  },
  {
   "cell_type": "markdown",
   "metadata": {
    "id": "Ah1dsB-DhqV1"
   },
   "source": [
    "# **Your Turn**"
   ]
  },
  {
   "cell_type": "markdown",
   "metadata": {
    "id": "PfDTbnH2FqTV"
   },
   "source": [
    "Build off the previous query, but order the results alphabetically by name."
   ]
  },
  {
   "cell_type": "markdown",
   "metadata": {
    "id": "5jQXpP5eS6Ep"
   },
   "source": [
    "## 1. Get the EstablishmentName, SchoolLevel, and Website columns from the school"
   ]
  },
  {
   "cell_type": "code",
   "execution_count": null,
   "metadata": {
    "ExecuteTime": {
     "end_time": "2023-02-14T23:49:51.489833Z",
     "start_time": "2023-02-14T23:49:51.474871Z"
    },
    "id": "68BXJEmWS6Ep"
   },
   "outputs": [],
   "source": [
    "query = \"\"\"\n",
    "\n",
    "\"\"\"\n",
    "# Read the sql query into pandas to view the results\n",
    "df = pd.read_sql_query(query, conn)\n",
    "df.head()"
   ]
  },
  {
   "cell_type": "markdown",
   "metadata": {
    "id": "-WG1JTaWS6Ep"
   },
   "source": [
    "## 2. Display the EstablishmentName and DistrictHQDistance (in Km) for schools where the DistrictHQDistance (in Km) is more than 100 Km. Don't forget to use backticks! (`)"
   ]
  },
  {
   "cell_type": "code",
   "execution_count": null,
   "metadata": {
    "ExecuteTime": {
     "end_time": "2023-02-14T23:49:51.505789Z",
     "start_time": "2023-02-14T23:49:51.491826Z"
    },
    "id": "-9_2WJn6S6Ep"
   },
   "outputs": [],
   "source": [
    "query = \"\"\"\n",
    "\n",
    "\"\"\"\n",
    "# Read the sql query into pandas to view the results\n",
    "df = pd.read_sql_query(query, conn)\n",
    "df.head()"
   ]
  },
  {
   "cell_type": "code",
   "execution_count": null,
   "metadata": {
    "id": "A26j89nYS6Ep"
   },
   "outputs": [],
   "source": [
    "query = \"\"\"\n",
    "SELECT EstablishmentName, `DistrictHQDistance (in Km)` as hq_dist\n",
    "from schools as s \n",
    "where hq_dist > 100\n",
    "\"\"\"\n",
    "# Read the sql query into pandas to view the results\n",
    "df = pd.read_sql_query(query, conn)\n",
    "df.head()"
   ]
  },
  {
   "cell_type": "markdown",
   "metadata": {
    "id": "eF-thS0vS6Ep"
   },
   "source": [
    "## 3. (**CHALLENGE!**) Display the number of recognized and not recognized schools in the DB\n",
    "\n",
    "### **Note** You will need to join the tables to complete this!"
   ]
  },
  {
   "cell_type": "code",
   "execution_count": null,
   "metadata": {
    "ExecuteTime": {
     "end_time": "2023-02-14T23:49:51.521745Z",
     "start_time": "2023-02-14T23:49:51.506787Z"
    },
    "id": "RLjt7q8xS6Ep"
   },
   "outputs": [],
   "source": [
    "# What is the average BACDistance (in Km) by School Level? Sort the results from highest average to lowest average.\n",
    "query = \"\"\"\n",
    "\n",
    "\"\"\"\n",
    "# Read the sql query into pandas to view the results\n",
    "df = pd.read_sql_query(query, conn)\n",
    "df.head()"
   ]
  }
 ],
 "metadata": {
  "colab": {
   "provenance": []
  },
  "kernelspec": {
   "display_name": "Python 3 (ipykernel)",
   "language": "python",
   "name": "python3"
  },
  "language_info": {
   "codemirror_mode": {
    "name": "ipython",
    "version": 3
   },
   "file_extension": ".py",
   "mimetype": "text/x-python",
   "name": "python",
   "nbconvert_exporter": "python",
   "pygments_lexer": "ipython3",
   "version": "3.9.15"
  },
  "toc": {
   "base_numbering": 1,
   "nav_menu": {},
   "number_sections": false,
   "sideBar": true,
   "skip_h1_title": false,
   "title_cell": "Table of Contents",
   "title_sidebar": "Contents",
   "toc_cell": false,
   "toc_position": {},
   "toc_section_display": true,
   "toc_window_display": false
  }
 },
 "nbformat": 4,
 "nbformat_minor": 1
}
