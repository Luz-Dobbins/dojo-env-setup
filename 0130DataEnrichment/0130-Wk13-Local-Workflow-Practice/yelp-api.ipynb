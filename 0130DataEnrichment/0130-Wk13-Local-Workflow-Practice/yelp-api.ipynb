{
 "cells": [
  {
   "cell_type": "markdown",
   "id": "30da556e",
   "metadata": {},
   "source": [
    "## How to Use YelpAPI:"
   ]
  },
  {
   "cell_type": "code",
   "execution_count": 2,
   "id": "d7622f26",
   "metadata": {},
   "outputs": [
    {
     "data": {
      "text/plain": [
       "dict_keys(['client-id', 'api-key'])"
      ]
     },
     "execution_count": 2,
     "metadata": {},
     "output_type": "execute_result"
    }
   ],
   "source": [
    "import json\n",
    "with open('/Users/miran/.secret/yelp_api.json') as f: #change the path to match YOUR path!!\n",
    "    login = json.load(f)\n",
    "login.keys()"
   ]
  },
  {
   "cell_type": "code",
   "execution_count": 4,
   "id": "2e114b5f",
   "metadata": {},
   "outputs": [
    {
     "data": {
      "text/plain": [
       "<yelpapi.yelpapi.YelpAPI at 0x1c7618d6ca0>"
      ]
     },
     "execution_count": 4,
     "metadata": {},
     "output_type": "execute_result"
    }
   ],
   "source": [
    "from yelpapi import YelpAPI\n",
    "yelp_api = YelpAPI(login['api-key'], timeout_s=5.0)\n",
    "yelp_api"
   ]
  },
  {
   "cell_type": "code",
   "execution_count": 5,
   "id": "508117e6",
   "metadata": {},
   "outputs": [
    {
     "name": "stdout",
     "output_type": "stream",
     "text": [
      "<class 'dict'>\n"
     ]
    },
    {
     "data": {
      "text/plain": [
       "dict_keys(['businesses', 'total', 'region'])"
      ]
     },
     "execution_count": 5,
     "metadata": {},
     "output_type": "execute_result"
    }
   ],
   "source": [
    "# Quick Test Query\n",
    "results = yelp_api.search_query(location='Baltimore, MD',\n",
    "                                       term='Crab Cake')\n",
    "print(type(results))\n",
    "results.keys()"
   ]
  },
  {
   "cell_type": "code",
   "execution_count": 6,
   "id": "3bd11b5d",
   "metadata": {},
   "outputs": [
    {
     "data": {
      "text/plain": [
       "dict"
      ]
     },
     "execution_count": 6,
     "metadata": {},
     "output_type": "execute_result"
    }
   ],
   "source": [
    "# Open the jsonfile and display the first level of keys\n",
    "# open API results WITH json module\n",
    "import json\n",
    "with open('Data/example_yelp_results.json') as f:   #adjust for your path\n",
    "    json_file = json.load(f)\n",
    "    \n",
    "## What type is top-level of json?\n",
    "type(json_file)"
   ]
  },
  {
   "cell_type": "code",
   "execution_count": 7,
   "id": "b75866c1",
   "metadata": {},
   "outputs": [
    {
     "data": {
      "text/plain": [
       "dict_keys(['businesses', 'total', 'region'])"
      ]
     },
     "execution_count": 7,
     "metadata": {},
     "output_type": "execute_result"
    }
   ],
   "source": [
    "# what are the keys?\n",
    "json_file.keys()"
   ]
  },
  {
   "cell_type": "code",
   "execution_count": 8,
   "id": "f361e0ce",
   "metadata": {},
   "outputs": [
    {
     "data": {
      "text/plain": [
       "dict"
      ]
     },
     "execution_count": 8,
     "metadata": {},
     "output_type": "execute_result"
    }
   ],
   "source": [
    "# what type is region?\n",
    "type(json_file['region'])"
   ]
  },
  {
   "cell_type": "code",
   "execution_count": 9,
   "id": "30bb6ec8",
   "metadata": {},
   "outputs": [
    {
     "data": {
      "text/plain": [
       "dict_keys(['center'])"
      ]
     },
     "execution_count": 9,
     "metadata": {},
     "output_type": "execute_result"
    }
   ],
   "source": [
    "# what keys are in region?\n",
    "json_file['region'].keys()"
   ]
  },
  {
   "cell_type": "code",
   "execution_count": 10,
   "id": "f590a3f2",
   "metadata": {},
   "outputs": [
    {
     "data": {
      "text/plain": [
       "dict"
      ]
     },
     "execution_count": 10,
     "metadata": {},
     "output_type": "execute_result"
    }
   ],
   "source": [
    "# what type is center?\n",
    "type(json_file['region']['center'])"
   ]
  },
  {
   "cell_type": "code",
   "execution_count": 11,
   "id": "f8957eaa",
   "metadata": {},
   "outputs": [
    {
     "data": {
      "text/plain": [
       "dict_keys(['longitude', 'latitude'])"
      ]
     },
     "execution_count": 11,
     "metadata": {},
     "output_type": "execute_result"
    }
   ],
   "source": [
    "# what are the keys in center?\n",
    "json_file['region']['center'].keys()"
   ]
  },
  {
   "cell_type": "code",
   "execution_count": 12,
   "id": "7cb1ed5f",
   "metadata": {},
   "outputs": [
    {
     "data": {
      "text/plain": [
       "{'longitude': -76.607666015625, 'latitude': 39.29617825404647}"
      ]
     },
     "execution_count": 12,
     "metadata": {},
     "output_type": "execute_result"
    }
   ],
   "source": [
    "# Visualize the whole center dict, since lat and long are likely single values\n",
    "json_file['region']['center']"
   ]
  },
  {
   "cell_type": "code",
   "execution_count": 13,
   "id": "88bad249",
   "metadata": {},
   "outputs": [
    {
     "data": {
      "text/plain": [
       "int"
      ]
     },
     "execution_count": 13,
     "metadata": {},
     "output_type": "execute_result"
    }
   ],
   "source": [
    "# what is stored under the \"total\" key?\n",
    "type(json_file['total'])"
   ]
  },
  {
   "cell_type": "code",
   "execution_count": 14,
   "id": "2bc7bc3e",
   "metadata": {},
   "outputs": [
    {
     "data": {
      "text/plain": [
       "435"
      ]
     },
     "execution_count": 14,
     "metadata": {},
     "output_type": "execute_result"
    }
   ],
   "source": [
    "## what is the value?\n",
    "json_file['total']"
   ]
  },
  {
   "cell_type": "code",
   "execution_count": 15,
   "id": "bf9958e0",
   "metadata": {},
   "outputs": [
    {
     "data": {
      "text/plain": [
       "list"
      ]
     },
     "execution_count": 15,
     "metadata": {},
     "output_type": "execute_result"
    }
   ],
   "source": [
    "# what is in the businesses key?\n",
    "type(json_file['businesses'])"
   ]
  },
  {
   "cell_type": "code",
   "execution_count": 16,
   "id": "2e677304",
   "metadata": {},
   "outputs": [
    {
     "data": {
      "text/plain": [
       "20"
      ]
     },
     "execution_count": 16,
     "metadata": {},
     "output_type": "execute_result"
    }
   ],
   "source": [
    "# how long is businesses?\n",
    "len(json_file['businesses'])"
   ]
  },
  {
   "cell_type": "code",
   "execution_count": 17,
   "id": "a0db67d1",
   "metadata": {},
   "outputs": [
    {
     "data": {
      "text/plain": [
       "{'id': 'D9A33FM394q99o4QtK5YwA',\n",
       " 'alias': 'faidleys-seafood-baltimore-3',\n",
       " 'name': 'Faidleys Seafood',\n",
       " 'image_url': 'https://s3-media3.fl.yelpcdn.com/bphoto/OTjVDCVS7pGopH6GZcfjBA/o.jpg',\n",
       " 'is_closed': False,\n",
       " 'url': 'https://www.yelp.com/biz/faidleys-seafood-baltimore-3?adjust_creative=KJtcufKUS887p24u6rjVIQ&utm_campaign=yelp_api_v3&utm_medium=api_v3_business_search&utm_source=KJtcufKUS887p24u6rjVIQ',\n",
       " 'review_count': 1184,\n",
       " 'categories': [{'alias': 'seafood', 'title': 'Seafood'},\n",
       "  {'alias': 'beerbar', 'title': 'Beer Bar'}],\n",
       " 'rating': 4.0,\n",
       " 'coordinates': {'latitude': 39.291696, 'longitude': -76.62224},\n",
       " 'transactions': ['delivery'],\n",
       " 'price': '$$',\n",
       " 'location': {'address1': '203 N Paca St',\n",
       "  'address2': '',\n",
       "  'address3': '',\n",
       "  'city': 'Baltimore',\n",
       "  'zip_code': '21201',\n",
       "  'country': 'US',\n",
       "  'state': 'MD',\n",
       "  'display_address': ['203 N Paca St', 'Baltimore, MD 21201']},\n",
       " 'phone': '+14107274898',\n",
       " 'display_phone': '(410) 727-4898',\n",
       " 'distance': 1349.560720156645}"
      ]
     },
     "execution_count": 17,
     "metadata": {},
     "output_type": "execute_result"
    }
   ],
   "source": [
    "# what does the first entry of business look like?\n",
    "json_file['businesses'][0]"
   ]
  },
  {
   "cell_type": "code",
   "execution_count": 18,
   "id": "4bdb438c",
   "metadata": {},
   "outputs": [
    {
     "data": {
      "text/plain": [
       "dict_keys(['id', 'alias', 'name', 'image_url', 'is_closed', 'url', 'review_count', 'categories', 'rating', 'coordinates', 'transactions', 'price', 'location', 'phone', 'display_phone', 'distance'])"
      ]
     },
     "execution_count": 18,
     "metadata": {},
     "output_type": "execute_result"
    }
   ],
   "source": [
    "## what are the keys of the first entry in businesses?\n",
    "json_file['businesses'][0].keys()"
   ]
  },
  {
   "cell_type": "code",
   "execution_count": 19,
   "id": "a3f18abb",
   "metadata": {},
   "outputs": [
    {
     "data": {
      "text/plain": [
       "dict_keys(['id', 'alias', 'name', 'image_url', 'is_closed', 'url', 'review_count', 'categories', 'rating', 'coordinates', 'transactions', 'price', 'location', 'phone', 'display_phone', 'distance'])"
      ]
     },
     "execution_count": 19,
     "metadata": {},
     "output_type": "execute_result"
    }
   ],
   "source": [
    "## what are the keys of the NEXT entry in businesses? Do they math the first?\n",
    "json_file['businesses'][1].keys()"
   ]
  },
  {
   "cell_type": "code",
   "execution_count": 20,
   "id": "77ced8e8",
   "metadata": {},
   "outputs": [
    {
     "data": {
      "text/html": [
       "<div>\n",
       "<style scoped>\n",
       "    .dataframe tbody tr th:only-of-type {\n",
       "        vertical-align: middle;\n",
       "    }\n",
       "\n",
       "    .dataframe tbody tr th {\n",
       "        vertical-align: top;\n",
       "    }\n",
       "\n",
       "    .dataframe thead th {\n",
       "        text-align: right;\n",
       "    }\n",
       "</style>\n",
       "<table border=\"1\" class=\"dataframe\">\n",
       "  <thead>\n",
       "    <tr style=\"text-align: right;\">\n",
       "      <th></th>\n",
       "      <th>id</th>\n",
       "      <th>alias</th>\n",
       "      <th>name</th>\n",
       "      <th>image_url</th>\n",
       "      <th>is_closed</th>\n",
       "      <th>url</th>\n",
       "      <th>review_count</th>\n",
       "      <th>categories</th>\n",
       "      <th>rating</th>\n",
       "      <th>coordinates</th>\n",
       "      <th>transactions</th>\n",
       "      <th>price</th>\n",
       "      <th>location</th>\n",
       "      <th>phone</th>\n",
       "      <th>display_phone</th>\n",
       "      <th>distance</th>\n",
       "    </tr>\n",
       "  </thead>\n",
       "  <tbody>\n",
       "    <tr>\n",
       "      <th>0</th>\n",
       "      <td>D9A33FM394q99o4QtK5YwA</td>\n",
       "      <td>faidleys-seafood-baltimore-3</td>\n",
       "      <td>Faidleys Seafood</td>\n",
       "      <td>https://s3-media3.fl.yelpcdn.com/bphoto/OTjVDC...</td>\n",
       "      <td>False</td>\n",
       "      <td>https://www.yelp.com/biz/faidleys-seafood-balt...</td>\n",
       "      <td>1184</td>\n",
       "      <td>[{'alias': 'seafood', 'title': 'Seafood'}, {'a...</td>\n",
       "      <td>4.0</td>\n",
       "      <td>{'latitude': 39.291696, 'longitude': -76.62224}</td>\n",
       "      <td>[delivery]</td>\n",
       "      <td>$$</td>\n",
       "      <td>{'address1': '203 N Paca St', 'address2': '', ...</td>\n",
       "      <td>+14107274898</td>\n",
       "      <td>(410) 727-4898</td>\n",
       "      <td>1349.560720</td>\n",
       "    </tr>\n",
       "    <tr>\n",
       "      <th>1</th>\n",
       "      <td>u65W69AhbjUlvJJBkEhGNQ</td>\n",
       "      <td>miss-shirleys-cafe-baltimore-9</td>\n",
       "      <td>Miss Shirley's Cafe</td>\n",
       "      <td>https://s3-media4.fl.yelpcdn.com/bphoto/9FsOyV...</td>\n",
       "      <td>False</td>\n",
       "      <td>https://www.yelp.com/biz/miss-shirleys-cafe-ba...</td>\n",
       "      <td>2919</td>\n",
       "      <td>[{'alias': 'breakfast_brunch', 'title': 'Break...</td>\n",
       "      <td>4.0</td>\n",
       "      <td>{'latitude': 39.2870995, 'longitude': -76.6053...</td>\n",
       "      <td>[delivery, pickup]</td>\n",
       "      <td>$$</td>\n",
       "      <td>{'address1': '750 E Pratt St', 'address2': '',...</td>\n",
       "      <td>+14105285373</td>\n",
       "      <td>(410) 528-5373</td>\n",
       "      <td>1028.736468</td>\n",
       "    </tr>\n",
       "    <tr>\n",
       "      <th>2</th>\n",
       "      <td>ieS_5zqxDHcWMCm8BKUYbg</td>\n",
       "      <td>thames-street-oyster-house-baltimore</td>\n",
       "      <td>Thames Street Oyster House</td>\n",
       "      <td>https://s3-media1.fl.yelpcdn.com/bphoto/9hGjo5...</td>\n",
       "      <td>False</td>\n",
       "      <td>https://www.yelp.com/biz/thames-street-oyster-...</td>\n",
       "      <td>2729</td>\n",
       "      <td>[{'alias': 'seafood', 'title': 'Seafood'}, {'a...</td>\n",
       "      <td>4.5</td>\n",
       "      <td>{'latitude': 39.28214, 'longitude': -76.59162}</td>\n",
       "      <td>[delivery]</td>\n",
       "      <td>$$$</td>\n",
       "      <td>{'address1': '1728 Thames St', 'address2': '',...</td>\n",
       "      <td>+14434497726</td>\n",
       "      <td>(443) 449-7726</td>\n",
       "      <td>2090.712792</td>\n",
       "    </tr>\n",
       "    <tr>\n",
       "      <th>3</th>\n",
       "      <td>6am8TZAFnvND52MOz-Yctg</td>\n",
       "      <td>mamas-on-the-half-shell-baltimore</td>\n",
       "      <td>Mama's On The Half Shell</td>\n",
       "      <td>https://s3-media2.fl.yelpcdn.com/bphoto/HWY8OF...</td>\n",
       "      <td>False</td>\n",
       "      <td>https://www.yelp.com/biz/mamas-on-the-half-she...</td>\n",
       "      <td>1279</td>\n",
       "      <td>[{'alias': 'bars', 'title': 'Bars'}, {'alias':...</td>\n",
       "      <td>4.0</td>\n",
       "      <td>{'latitude': 39.27986, 'longitude': -76.5752399}</td>\n",
       "      <td>[delivery, pickup]</td>\n",
       "      <td>$$</td>\n",
       "      <td>{'address1': '2901 Odonnell St', 'address2': '...</td>\n",
       "      <td>+14102763160</td>\n",
       "      <td>(410) 276-3160</td>\n",
       "      <td>3328.825798</td>\n",
       "    </tr>\n",
       "    <tr>\n",
       "      <th>4</th>\n",
       "      <td>ISn7WyGQaFpsVSRSh0NSqg</td>\n",
       "      <td>sal-and-sons-baltimore</td>\n",
       "      <td>Sal and Sons</td>\n",
       "      <td>https://s3-media3.fl.yelpcdn.com/bphoto/LmVL4j...</td>\n",
       "      <td>False</td>\n",
       "      <td>https://www.yelp.com/biz/sal-and-sons-baltimor...</td>\n",
       "      <td>153</td>\n",
       "      <td>[{'alias': 'seafood', 'title': 'Seafood'}, {'a...</td>\n",
       "      <td>4.5</td>\n",
       "      <td>{'latitude': 39.284, 'longitude': -76.59337}</td>\n",
       "      <td>[delivery]</td>\n",
       "      <td>$</td>\n",
       "      <td>{'address1': '1640 Aliceanna St', 'address2': ...</td>\n",
       "      <td>+14106751466</td>\n",
       "      <td>(410) 675-1466</td>\n",
       "      <td>1817.406978</td>\n",
       "    </tr>\n",
       "  </tbody>\n",
       "</table>\n",
       "</div>"
      ],
      "text/plain": [
       "                       id                                 alias  \\\n",
       "0  D9A33FM394q99o4QtK5YwA          faidleys-seafood-baltimore-3   \n",
       "1  u65W69AhbjUlvJJBkEhGNQ        miss-shirleys-cafe-baltimore-9   \n",
       "2  ieS_5zqxDHcWMCm8BKUYbg  thames-street-oyster-house-baltimore   \n",
       "3  6am8TZAFnvND52MOz-Yctg     mamas-on-the-half-shell-baltimore   \n",
       "4  ISn7WyGQaFpsVSRSh0NSqg                sal-and-sons-baltimore   \n",
       "\n",
       "                         name  \\\n",
       "0            Faidleys Seafood   \n",
       "1         Miss Shirley's Cafe   \n",
       "2  Thames Street Oyster House   \n",
       "3    Mama's On The Half Shell   \n",
       "4                Sal and Sons   \n",
       "\n",
       "                                           image_url  is_closed  \\\n",
       "0  https://s3-media3.fl.yelpcdn.com/bphoto/OTjVDC...      False   \n",
       "1  https://s3-media4.fl.yelpcdn.com/bphoto/9FsOyV...      False   \n",
       "2  https://s3-media1.fl.yelpcdn.com/bphoto/9hGjo5...      False   \n",
       "3  https://s3-media2.fl.yelpcdn.com/bphoto/HWY8OF...      False   \n",
       "4  https://s3-media3.fl.yelpcdn.com/bphoto/LmVL4j...      False   \n",
       "\n",
       "                                                 url  review_count  \\\n",
       "0  https://www.yelp.com/biz/faidleys-seafood-balt...          1184   \n",
       "1  https://www.yelp.com/biz/miss-shirleys-cafe-ba...          2919   \n",
       "2  https://www.yelp.com/biz/thames-street-oyster-...          2729   \n",
       "3  https://www.yelp.com/biz/mamas-on-the-half-she...          1279   \n",
       "4  https://www.yelp.com/biz/sal-and-sons-baltimor...           153   \n",
       "\n",
       "                                          categories  rating  \\\n",
       "0  [{'alias': 'seafood', 'title': 'Seafood'}, {'a...     4.0   \n",
       "1  [{'alias': 'breakfast_brunch', 'title': 'Break...     4.0   \n",
       "2  [{'alias': 'seafood', 'title': 'Seafood'}, {'a...     4.5   \n",
       "3  [{'alias': 'bars', 'title': 'Bars'}, {'alias':...     4.0   \n",
       "4  [{'alias': 'seafood', 'title': 'Seafood'}, {'a...     4.5   \n",
       "\n",
       "                                         coordinates        transactions  \\\n",
       "0    {'latitude': 39.291696, 'longitude': -76.62224}          [delivery]   \n",
       "1  {'latitude': 39.2870995, 'longitude': -76.6053...  [delivery, pickup]   \n",
       "2     {'latitude': 39.28214, 'longitude': -76.59162}          [delivery]   \n",
       "3   {'latitude': 39.27986, 'longitude': -76.5752399}  [delivery, pickup]   \n",
       "4       {'latitude': 39.284, 'longitude': -76.59337}          [delivery]   \n",
       "\n",
       "  price                                           location         phone  \\\n",
       "0    $$  {'address1': '203 N Paca St', 'address2': '', ...  +14107274898   \n",
       "1    $$  {'address1': '750 E Pratt St', 'address2': '',...  +14105285373   \n",
       "2   $$$  {'address1': '1728 Thames St', 'address2': '',...  +14434497726   \n",
       "3    $$  {'address1': '2901 Odonnell St', 'address2': '...  +14102763160   \n",
       "4     $  {'address1': '1640 Aliceanna St', 'address2': ...  +14106751466   \n",
       "\n",
       "    display_phone     distance  \n",
       "0  (410) 727-4898  1349.560720  \n",
       "1  (410) 528-5373  1028.736468  \n",
       "2  (443) 449-7726  2090.712792  \n",
       "3  (410) 276-3160  3328.825798  \n",
       "4  (410) 675-1466  1817.406978  "
      ]
     },
     "execution_count": 20,
     "metadata": {},
     "output_type": "execute_result"
    }
   ],
   "source": [
    "import pandas as pd\n",
    "df_businesses = pd.DataFrame(json_file['businesses'])\n",
    "df_businesses.head()"
   ]
  },
  {
   "cell_type": "code",
   "execution_count": 21,
   "id": "0032cbe4",
   "metadata": {},
   "outputs": [
    {
     "data": {
      "text/html": [
       "<div>\n",
       "<style scoped>\n",
       "    .dataframe tbody tr th:only-of-type {\n",
       "        vertical-align: middle;\n",
       "    }\n",
       "\n",
       "    .dataframe tbody tr th {\n",
       "        vertical-align: top;\n",
       "    }\n",
       "\n",
       "    .dataframe thead th {\n",
       "        text-align: right;\n",
       "    }\n",
       "</style>\n",
       "<table border=\"1\" class=\"dataframe\">\n",
       "  <thead>\n",
       "    <tr style=\"text-align: right;\">\n",
       "      <th></th>\n",
       "      <th>categories</th>\n",
       "      <th>coordinates</th>\n",
       "      <th>location</th>\n",
       "    </tr>\n",
       "  </thead>\n",
       "  <tbody>\n",
       "    <tr>\n",
       "      <th>0</th>\n",
       "      <td>[{'alias': 'seafood', 'title': 'Seafood'}, {'a...</td>\n",
       "      <td>{'latitude': 39.291696, 'longitude': -76.62224}</td>\n",
       "      <td>{'address1': '203 N Paca St', 'address2': '', ...</td>\n",
       "    </tr>\n",
       "    <tr>\n",
       "      <th>1</th>\n",
       "      <td>[{'alias': 'breakfast_brunch', 'title': 'Break...</td>\n",
       "      <td>{'latitude': 39.2870995, 'longitude': -76.6053...</td>\n",
       "      <td>{'address1': '750 E Pratt St', 'address2': '',...</td>\n",
       "    </tr>\n",
       "    <tr>\n",
       "      <th>2</th>\n",
       "      <td>[{'alias': 'seafood', 'title': 'Seafood'}, {'a...</td>\n",
       "      <td>{'latitude': 39.28214, 'longitude': -76.59162}</td>\n",
       "      <td>{'address1': '1728 Thames St', 'address2': '',...</td>\n",
       "    </tr>\n",
       "  </tbody>\n",
       "</table>\n",
       "</div>"
      ],
      "text/plain": [
       "                                          categories  \\\n",
       "0  [{'alias': 'seafood', 'title': 'Seafood'}, {'a...   \n",
       "1  [{'alias': 'breakfast_brunch', 'title': 'Break...   \n",
       "2  [{'alias': 'seafood', 'title': 'Seafood'}, {'a...   \n",
       "\n",
       "                                         coordinates  \\\n",
       "0    {'latitude': 39.291696, 'longitude': -76.62224}   \n",
       "1  {'latitude': 39.2870995, 'longitude': -76.6053...   \n",
       "2     {'latitude': 39.28214, 'longitude': -76.59162}   \n",
       "\n",
       "                                            location  \n",
       "0  {'address1': '203 N Paca St', 'address2': '', ...  \n",
       "1  {'address1': '750 E Pratt St', 'address2': '',...  \n",
       "2  {'address1': '1728 Thames St', 'address2': '',...  "
      ]
     },
     "execution_count": 21,
     "metadata": {},
     "output_type": "execute_result"
    }
   ],
   "source": [
    "df_businesses[['categories','coordinates','location']].head(3)"
   ]
  },
  {
   "cell_type": "code",
   "execution_count": 23,
   "id": "659277dc",
   "metadata": {},
   "outputs": [
    {
     "name": "stdout",
     "output_type": "stream",
     "text": [
      "<class 'dict'>\n"
     ]
    },
    {
     "data": {
      "text/plain": [
       "dict_keys(['businesses', 'total', 'region'])"
      ]
     },
     "execution_count": 23,
     "metadata": {},
     "output_type": "execute_result"
    }
   ],
   "source": [
    "# use our yelp_api variable's search_query method to perform our API call\n",
    "search_results = yelp_api.search_query(location='NY, NY',\n",
    "                                       term='Pizza')\n",
    "print(type(search_results))\n",
    "search_results.keys()"
   ]
  },
  {
   "cell_type": "code",
   "execution_count": 24,
   "id": "f87d4e79",
   "metadata": {},
   "outputs": [
    {
     "data": {
      "text/plain": [
       "15700"
      ]
     },
     "execution_count": 24,
     "metadata": {},
     "output_type": "execute_result"
    }
   ],
   "source": [
    "search_results['total']"
   ]
  },
  {
   "cell_type": "code",
   "execution_count": 25,
   "id": "523813b0",
   "metadata": {},
   "outputs": [
    {
     "data": {
      "text/html": [
       "<div>\n",
       "<style scoped>\n",
       "    .dataframe tbody tr th:only-of-type {\n",
       "        vertical-align: middle;\n",
       "    }\n",
       "\n",
       "    .dataframe tbody tr th {\n",
       "        vertical-align: top;\n",
       "    }\n",
       "\n",
       "    .dataframe thead th {\n",
       "        text-align: right;\n",
       "    }\n",
       "</style>\n",
       "<table border=\"1\" class=\"dataframe\">\n",
       "  <thead>\n",
       "    <tr style=\"text-align: right;\">\n",
       "      <th></th>\n",
       "      <th>id</th>\n",
       "      <th>alias</th>\n",
       "      <th>name</th>\n",
       "      <th>image_url</th>\n",
       "      <th>is_closed</th>\n",
       "      <th>url</th>\n",
       "      <th>review_count</th>\n",
       "      <th>categories</th>\n",
       "      <th>rating</th>\n",
       "      <th>coordinates</th>\n",
       "      <th>transactions</th>\n",
       "      <th>price</th>\n",
       "      <th>location</th>\n",
       "      <th>phone</th>\n",
       "      <th>display_phone</th>\n",
       "      <th>distance</th>\n",
       "    </tr>\n",
       "  </thead>\n",
       "  <tbody>\n",
       "    <tr>\n",
       "      <th>0</th>\n",
       "      <td>ysqgdbSrezXgVwER2kQWKA</td>\n",
       "      <td>julianas-brooklyn-3</td>\n",
       "      <td>Juliana's</td>\n",
       "      <td>https://s3-media2.fl.yelpcdn.com/bphoto/NVoLFl...</td>\n",
       "      <td>False</td>\n",
       "      <td>https://www.yelp.com/biz/julianas-brooklyn-3?a...</td>\n",
       "      <td>2634</td>\n",
       "      <td>[{'alias': 'pizza', 'title': 'Pizza'}]</td>\n",
       "      <td>4.5</td>\n",
       "      <td>{'latitude': 40.70274718768062, 'longitude': -...</td>\n",
       "      <td>[delivery]</td>\n",
       "      <td>$$</td>\n",
       "      <td>{'address1': '19 Old Fulton St', 'address2': '...</td>\n",
       "      <td>+17185966700</td>\n",
       "      <td>(718) 596-6700</td>\n",
       "      <td>1289.857286</td>\n",
       "    </tr>\n",
       "    <tr>\n",
       "      <th>1</th>\n",
       "      <td>zj8Lq1T8KIC5zwFief15jg</td>\n",
       "      <td>prince-street-pizza-new-york-2</td>\n",
       "      <td>Prince Street Pizza</td>\n",
       "      <td>https://s3-media4.fl.yelpcdn.com/bphoto/PfI8oV...</td>\n",
       "      <td>False</td>\n",
       "      <td>https://www.yelp.com/biz/prince-street-pizza-n...</td>\n",
       "      <td>4862</td>\n",
       "      <td>[{'alias': 'pizza', 'title': 'Pizza'}, {'alias...</td>\n",
       "      <td>4.5</td>\n",
       "      <td>{'latitude': 40.72308755605564, 'longitude': -...</td>\n",
       "      <td>[delivery, pickup]</td>\n",
       "      <td>$</td>\n",
       "      <td>{'address1': '27 Prince St', 'address2': None,...</td>\n",
       "      <td>+12129664100</td>\n",
       "      <td>(212) 966-4100</td>\n",
       "      <td>2209.311618</td>\n",
       "    </tr>\n",
       "    <tr>\n",
       "      <th>2</th>\n",
       "      <td>WG639VkTjmK5dzydd1BBJA</td>\n",
       "      <td>rubirosa-new-york-2</td>\n",
       "      <td>Rubirosa</td>\n",
       "      <td>https://s3-media3.fl.yelpcdn.com/bphoto/F65qqO...</td>\n",
       "      <td>False</td>\n",
       "      <td>https://www.yelp.com/biz/rubirosa-new-york-2?a...</td>\n",
       "      <td>2985</td>\n",
       "      <td>[{'alias': 'italian', 'title': 'Italian'}, {'a...</td>\n",
       "      <td>4.5</td>\n",
       "      <td>{'latitude': 40.722766, 'longitude': -73.996233}</td>\n",
       "      <td>[pickup]</td>\n",
       "      <td>$$</td>\n",
       "      <td>{'address1': '235 Mulberry St', 'address2': ''...</td>\n",
       "      <td>+12129650500</td>\n",
       "      <td>(212) 965-0500</td>\n",
       "      <td>2268.491950</td>\n",
       "    </tr>\n",
       "    <tr>\n",
       "      <th>3</th>\n",
       "      <td>v1DHGRNCH9247WLYoaoA9A</td>\n",
       "      <td>l-industrie-pizzeria-brooklyn</td>\n",
       "      <td>L'industrie Pizzeria</td>\n",
       "      <td>https://s3-media3.fl.yelpcdn.com/bphoto/KKB2Tr...</td>\n",
       "      <td>False</td>\n",
       "      <td>https://www.yelp.com/biz/l-industrie-pizzeria-...</td>\n",
       "      <td>934</td>\n",
       "      <td>[{'alias': 'pizza', 'title': 'Pizza'}]</td>\n",
       "      <td>4.5</td>\n",
       "      <td>{'latitude': 40.71162, 'longitude': -73.95783}</td>\n",
       "      <td>[delivery]</td>\n",
       "      <td>$</td>\n",
       "      <td>{'address1': '254 S 2nd St', 'address2': '', '...</td>\n",
       "      <td>+17185990002</td>\n",
       "      <td>(718) 599-0002</td>\n",
       "      <td>1868.295512</td>\n",
       "    </tr>\n",
       "    <tr>\n",
       "      <th>4</th>\n",
       "      <td>WIhm0W9197f_rRtDziq5qQ</td>\n",
       "      <td>lombardis-pizza-new-york-4</td>\n",
       "      <td>Lombardi's Pizza</td>\n",
       "      <td>https://s3-media2.fl.yelpcdn.com/bphoto/m_9TT6...</td>\n",
       "      <td>False</td>\n",
       "      <td>https://www.yelp.com/biz/lombardis-pizza-new-y...</td>\n",
       "      <td>6562</td>\n",
       "      <td>[{'alias': 'pizza', 'title': 'Pizza'}]</td>\n",
       "      <td>4.0</td>\n",
       "      <td>{'latitude': 40.7215934960083, 'longitude': -7...</td>\n",
       "      <td>[delivery, pickup]</td>\n",
       "      <td>$$</td>\n",
       "      <td>{'address1': '32 Spring St', 'address2': '', '...</td>\n",
       "      <td>+12129417994</td>\n",
       "      <td>(212) 941-7994</td>\n",
       "      <td>2133.973859</td>\n",
       "    </tr>\n",
       "  </tbody>\n",
       "</table>\n",
       "</div>"
      ],
      "text/plain": [
       "                       id                           alias  \\\n",
       "0  ysqgdbSrezXgVwER2kQWKA             julianas-brooklyn-3   \n",
       "1  zj8Lq1T8KIC5zwFief15jg  prince-street-pizza-new-york-2   \n",
       "2  WG639VkTjmK5dzydd1BBJA             rubirosa-new-york-2   \n",
       "3  v1DHGRNCH9247WLYoaoA9A   l-industrie-pizzeria-brooklyn   \n",
       "4  WIhm0W9197f_rRtDziq5qQ      lombardis-pizza-new-york-4   \n",
       "\n",
       "                   name                                          image_url  \\\n",
       "0             Juliana's  https://s3-media2.fl.yelpcdn.com/bphoto/NVoLFl...   \n",
       "1   Prince Street Pizza  https://s3-media4.fl.yelpcdn.com/bphoto/PfI8oV...   \n",
       "2              Rubirosa  https://s3-media3.fl.yelpcdn.com/bphoto/F65qqO...   \n",
       "3  L'industrie Pizzeria  https://s3-media3.fl.yelpcdn.com/bphoto/KKB2Tr...   \n",
       "4      Lombardi's Pizza  https://s3-media2.fl.yelpcdn.com/bphoto/m_9TT6...   \n",
       "\n",
       "   is_closed                                                url  review_count  \\\n",
       "0      False  https://www.yelp.com/biz/julianas-brooklyn-3?a...          2634   \n",
       "1      False  https://www.yelp.com/biz/prince-street-pizza-n...          4862   \n",
       "2      False  https://www.yelp.com/biz/rubirosa-new-york-2?a...          2985   \n",
       "3      False  https://www.yelp.com/biz/l-industrie-pizzeria-...           934   \n",
       "4      False  https://www.yelp.com/biz/lombardis-pizza-new-y...          6562   \n",
       "\n",
       "                                          categories  rating  \\\n",
       "0             [{'alias': 'pizza', 'title': 'Pizza'}]     4.5   \n",
       "1  [{'alias': 'pizza', 'title': 'Pizza'}, {'alias...     4.5   \n",
       "2  [{'alias': 'italian', 'title': 'Italian'}, {'a...     4.5   \n",
       "3             [{'alias': 'pizza', 'title': 'Pizza'}]     4.5   \n",
       "4             [{'alias': 'pizza', 'title': 'Pizza'}]     4.0   \n",
       "\n",
       "                                         coordinates        transactions  \\\n",
       "0  {'latitude': 40.70274718768062, 'longitude': -...          [delivery]   \n",
       "1  {'latitude': 40.72308755605564, 'longitude': -...  [delivery, pickup]   \n",
       "2   {'latitude': 40.722766, 'longitude': -73.996233}            [pickup]   \n",
       "3     {'latitude': 40.71162, 'longitude': -73.95783}          [delivery]   \n",
       "4  {'latitude': 40.7215934960083, 'longitude': -7...  [delivery, pickup]   \n",
       "\n",
       "  price                                           location         phone  \\\n",
       "0    $$  {'address1': '19 Old Fulton St', 'address2': '...  +17185966700   \n",
       "1     $  {'address1': '27 Prince St', 'address2': None,...  +12129664100   \n",
       "2    $$  {'address1': '235 Mulberry St', 'address2': ''...  +12129650500   \n",
       "3     $  {'address1': '254 S 2nd St', 'address2': '', '...  +17185990002   \n",
       "4    $$  {'address1': '32 Spring St', 'address2': '', '...  +12129417994   \n",
       "\n",
       "    display_phone     distance  \n",
       "0  (718) 596-6700  1289.857286  \n",
       "1  (212) 966-4100  2209.311618  \n",
       "2  (212) 965-0500  2268.491950  \n",
       "3  (718) 599-0002  1868.295512  \n",
       "4  (212) 941-7994  2133.973859  "
      ]
     },
     "execution_count": 25,
     "metadata": {},
     "output_type": "execute_result"
    }
   ],
   "source": [
    "biz = pd.DataFrame(search_results['businesses'])\n",
    "biz.head()"
   ]
  },
  {
   "cell_type": "code",
   "execution_count": 26,
   "id": "57d67302",
   "metadata": {},
   "outputs": [
    {
     "data": {
      "text/plain": [
       "15700"
      ]
     },
     "execution_count": 26,
     "metadata": {},
     "output_type": "execute_result"
    }
   ],
   "source": [
    "## total number of matching businesses\n",
    "search_results['total']"
   ]
  },
  {
   "cell_type": "code",
   "execution_count": 27,
   "id": "ffd34b18",
   "metadata": {},
   "outputs": [
    {
     "data": {
      "text/plain": [
       "20"
      ]
     },
     "execution_count": 27,
     "metadata": {},
     "output_type": "execute_result"
    }
   ],
   "source": [
    "## how many businesses in our results\n",
    "len(search_results['businesses'])"
   ]
  },
  {
   "cell_type": "markdown",
   "id": "047661a2",
   "metadata": {},
   "source": [
    "### Pagination"
   ]
  },
  {
   "cell_type": "code",
   "execution_count": 28,
   "id": "2fb765e9",
   "metadata": {},
   "outputs": [],
   "source": [
    "# add offset to our original api call\n",
    "search_results = yelp_api.search_query(location='NY, NY',\n",
    "                                       term='Pizza',\n",
    "                                       offset = 20)"
   ]
  },
  {
   "cell_type": "code",
   "execution_count": 29,
   "id": "0cb40660",
   "metadata": {},
   "outputs": [
    {
     "data": {
      "text/html": [
       "<div>\n",
       "<style scoped>\n",
       "    .dataframe tbody tr th:only-of-type {\n",
       "        vertical-align: middle;\n",
       "    }\n",
       "\n",
       "    .dataframe tbody tr th {\n",
       "        vertical-align: top;\n",
       "    }\n",
       "\n",
       "    .dataframe thead th {\n",
       "        text-align: right;\n",
       "    }\n",
       "</style>\n",
       "<table border=\"1\" class=\"dataframe\">\n",
       "  <thead>\n",
       "    <tr style=\"text-align: right;\">\n",
       "      <th></th>\n",
       "      <th>id</th>\n",
       "      <th>alias</th>\n",
       "      <th>name</th>\n",
       "      <th>image_url</th>\n",
       "      <th>is_closed</th>\n",
       "      <th>url</th>\n",
       "      <th>review_count</th>\n",
       "      <th>categories</th>\n",
       "      <th>rating</th>\n",
       "      <th>coordinates</th>\n",
       "      <th>transactions</th>\n",
       "      <th>price</th>\n",
       "      <th>location</th>\n",
       "      <th>phone</th>\n",
       "      <th>display_phone</th>\n",
       "      <th>distance</th>\n",
       "    </tr>\n",
       "  </thead>\n",
       "  <tbody>\n",
       "    <tr>\n",
       "      <th>0</th>\n",
       "      <td>vpkTNjq9dRh9rT3Nh0pe-A</td>\n",
       "      <td>nolita-pizza-new-york-2</td>\n",
       "      <td>Nolita Pizza</td>\n",
       "      <td>https://s3-media2.fl.yelpcdn.com/bphoto/_BKVVo...</td>\n",
       "      <td>False</td>\n",
       "      <td>https://www.yelp.com/biz/nolita-pizza-new-york...</td>\n",
       "      <td>200</td>\n",
       "      <td>[{'alias': 'pizza', 'title': 'Pizza'}, {'alias...</td>\n",
       "      <td>4.5</td>\n",
       "      <td>{'latitude': 40.7208883, 'longitude': -73.9962...</td>\n",
       "      <td>[pickup, delivery]</td>\n",
       "      <td>$</td>\n",
       "      <td>{'address1': '68 Kenmare St', 'address2': None...</td>\n",
       "      <td>+16468959131</td>\n",
       "      <td>(646) 895-9131</td>\n",
       "      <td>2111.493523</td>\n",
       "    </tr>\n",
       "    <tr>\n",
       "      <th>1</th>\n",
       "      <td>FhXjAc6nKLf414KxYujUHw</td>\n",
       "      <td>robertas-brooklyn-2</td>\n",
       "      <td>Roberta's</td>\n",
       "      <td>https://s3-media4.fl.yelpcdn.com/bphoto/8fY9fA...</td>\n",
       "      <td>False</td>\n",
       "      <td>https://www.yelp.com/biz/robertas-brooklyn-2?a...</td>\n",
       "      <td>3264</td>\n",
       "      <td>[{'alias': 'pizza', 'title': 'Pizza'}, {'alias...</td>\n",
       "      <td>4.0</td>\n",
       "      <td>{'latitude': 40.70493, 'longitude': -73.93399}</td>\n",
       "      <td>[pickup, delivery]</td>\n",
       "      <td>$$</td>\n",
       "      <td>{'address1': '261 Moore St', 'address2': '', '...</td>\n",
       "      <td>+17184171118</td>\n",
       "      <td>(718) 417-1118</td>\n",
       "      <td>3816.592615</td>\n",
       "    </tr>\n",
       "  </tbody>\n",
       "</table>\n",
       "</div>"
      ],
      "text/plain": [
       "                       id                    alias          name  \\\n",
       "0  vpkTNjq9dRh9rT3Nh0pe-A  nolita-pizza-new-york-2  Nolita Pizza   \n",
       "1  FhXjAc6nKLf414KxYujUHw      robertas-brooklyn-2     Roberta's   \n",
       "\n",
       "                                           image_url  is_closed  \\\n",
       "0  https://s3-media2.fl.yelpcdn.com/bphoto/_BKVVo...      False   \n",
       "1  https://s3-media4.fl.yelpcdn.com/bphoto/8fY9fA...      False   \n",
       "\n",
       "                                                 url  review_count  \\\n",
       "0  https://www.yelp.com/biz/nolita-pizza-new-york...           200   \n",
       "1  https://www.yelp.com/biz/robertas-brooklyn-2?a...          3264   \n",
       "\n",
       "                                          categories  rating  \\\n",
       "0  [{'alias': 'pizza', 'title': 'Pizza'}, {'alias...     4.5   \n",
       "1  [{'alias': 'pizza', 'title': 'Pizza'}, {'alias...     4.0   \n",
       "\n",
       "                                         coordinates        transactions  \\\n",
       "0  {'latitude': 40.7208883, 'longitude': -73.9962...  [pickup, delivery]   \n",
       "1     {'latitude': 40.70493, 'longitude': -73.93399}  [pickup, delivery]   \n",
       "\n",
       "  price                                           location         phone  \\\n",
       "0     $  {'address1': '68 Kenmare St', 'address2': None...  +16468959131   \n",
       "1    $$  {'address1': '261 Moore St', 'address2': '', '...  +17184171118   \n",
       "\n",
       "    display_phone     distance  \n",
       "0  (646) 895-9131  2111.493523  \n",
       "1  (718) 417-1118  3816.592615  "
      ]
     },
     "execution_count": 29,
     "metadata": {},
     "output_type": "execute_result"
    }
   ],
   "source": [
    "biz20 = pd.DataFrame(search_results['businesses'])\n",
    "biz20.head(2)"
   ]
  },
  {
   "cell_type": "code",
   "execution_count": 30,
   "id": "552f7140",
   "metadata": {},
   "outputs": [
    {
     "data": {
      "text/html": [
       "<div>\n",
       "<style scoped>\n",
       "    .dataframe tbody tr th:only-of-type {\n",
       "        vertical-align: middle;\n",
       "    }\n",
       "\n",
       "    .dataframe tbody tr th {\n",
       "        vertical-align: top;\n",
       "    }\n",
       "\n",
       "    .dataframe thead th {\n",
       "        text-align: right;\n",
       "    }\n",
       "</style>\n",
       "<table border=\"1\" class=\"dataframe\">\n",
       "  <thead>\n",
       "    <tr style=\"text-align: right;\">\n",
       "      <th></th>\n",
       "      <th>id</th>\n",
       "      <th>alias</th>\n",
       "      <th>name</th>\n",
       "      <th>image_url</th>\n",
       "      <th>is_closed</th>\n",
       "      <th>url</th>\n",
       "      <th>review_count</th>\n",
       "      <th>categories</th>\n",
       "      <th>rating</th>\n",
       "      <th>coordinates</th>\n",
       "      <th>transactions</th>\n",
       "      <th>price</th>\n",
       "      <th>location</th>\n",
       "      <th>phone</th>\n",
       "      <th>display_phone</th>\n",
       "      <th>distance</th>\n",
       "    </tr>\n",
       "  </thead>\n",
       "  <tbody>\n",
       "    <tr>\n",
       "      <th>0</th>\n",
       "      <td>ysqgdbSrezXgVwER2kQWKA</td>\n",
       "      <td>julianas-brooklyn-3</td>\n",
       "      <td>Juliana's</td>\n",
       "      <td>https://s3-media2.fl.yelpcdn.com/bphoto/NVoLFl...</td>\n",
       "      <td>False</td>\n",
       "      <td>https://www.yelp.com/biz/julianas-brooklyn-3?a...</td>\n",
       "      <td>2634</td>\n",
       "      <td>[{'alias': 'pizza', 'title': 'Pizza'}]</td>\n",
       "      <td>4.5</td>\n",
       "      <td>{'latitude': 40.70274718768062, 'longitude': -...</td>\n",
       "      <td>[delivery]</td>\n",
       "      <td>$$</td>\n",
       "      <td>{'address1': '19 Old Fulton St', 'address2': '...</td>\n",
       "      <td>+17185966700</td>\n",
       "      <td>(718) 596-6700</td>\n",
       "      <td>1289.857286</td>\n",
       "    </tr>\n",
       "    <tr>\n",
       "      <th>1</th>\n",
       "      <td>zj8Lq1T8KIC5zwFief15jg</td>\n",
       "      <td>prince-street-pizza-new-york-2</td>\n",
       "      <td>Prince Street Pizza</td>\n",
       "      <td>https://s3-media4.fl.yelpcdn.com/bphoto/PfI8oV...</td>\n",
       "      <td>False</td>\n",
       "      <td>https://www.yelp.com/biz/prince-street-pizza-n...</td>\n",
       "      <td>4862</td>\n",
       "      <td>[{'alias': 'pizza', 'title': 'Pizza'}, {'alias...</td>\n",
       "      <td>4.5</td>\n",
       "      <td>{'latitude': 40.72308755605564, 'longitude': -...</td>\n",
       "      <td>[delivery, pickup]</td>\n",
       "      <td>$</td>\n",
       "      <td>{'address1': '27 Prince St', 'address2': None,...</td>\n",
       "      <td>+12129664100</td>\n",
       "      <td>(212) 966-4100</td>\n",
       "      <td>2209.311618</td>\n",
       "    </tr>\n",
       "    <tr>\n",
       "      <th>2</th>\n",
       "      <td>WG639VkTjmK5dzydd1BBJA</td>\n",
       "      <td>rubirosa-new-york-2</td>\n",
       "      <td>Rubirosa</td>\n",
       "      <td>https://s3-media3.fl.yelpcdn.com/bphoto/F65qqO...</td>\n",
       "      <td>False</td>\n",
       "      <td>https://www.yelp.com/biz/rubirosa-new-york-2?a...</td>\n",
       "      <td>2985</td>\n",
       "      <td>[{'alias': 'italian', 'title': 'Italian'}, {'a...</td>\n",
       "      <td>4.5</td>\n",
       "      <td>{'latitude': 40.722766, 'longitude': -73.996233}</td>\n",
       "      <td>[pickup]</td>\n",
       "      <td>$$</td>\n",
       "      <td>{'address1': '235 Mulberry St', 'address2': ''...</td>\n",
       "      <td>+12129650500</td>\n",
       "      <td>(212) 965-0500</td>\n",
       "      <td>2268.491950</td>\n",
       "    </tr>\n",
       "  </tbody>\n",
       "</table>\n",
       "</div>"
      ],
      "text/plain": [
       "                       id                           alias  \\\n",
       "0  ysqgdbSrezXgVwER2kQWKA             julianas-brooklyn-3   \n",
       "1  zj8Lq1T8KIC5zwFief15jg  prince-street-pizza-new-york-2   \n",
       "2  WG639VkTjmK5dzydd1BBJA             rubirosa-new-york-2   \n",
       "\n",
       "                  name                                          image_url  \\\n",
       "0            Juliana's  https://s3-media2.fl.yelpcdn.com/bphoto/NVoLFl...   \n",
       "1  Prince Street Pizza  https://s3-media4.fl.yelpcdn.com/bphoto/PfI8oV...   \n",
       "2             Rubirosa  https://s3-media3.fl.yelpcdn.com/bphoto/F65qqO...   \n",
       "\n",
       "   is_closed                                                url  review_count  \\\n",
       "0      False  https://www.yelp.com/biz/julianas-brooklyn-3?a...          2634   \n",
       "1      False  https://www.yelp.com/biz/prince-street-pizza-n...          4862   \n",
       "2      False  https://www.yelp.com/biz/rubirosa-new-york-2?a...          2985   \n",
       "\n",
       "                                          categories  rating  \\\n",
       "0             [{'alias': 'pizza', 'title': 'Pizza'}]     4.5   \n",
       "1  [{'alias': 'pizza', 'title': 'Pizza'}, {'alias...     4.5   \n",
       "2  [{'alias': 'italian', 'title': 'Italian'}, {'a...     4.5   \n",
       "\n",
       "                                         coordinates        transactions  \\\n",
       "0  {'latitude': 40.70274718768062, 'longitude': -...          [delivery]   \n",
       "1  {'latitude': 40.72308755605564, 'longitude': -...  [delivery, pickup]   \n",
       "2   {'latitude': 40.722766, 'longitude': -73.996233}            [pickup]   \n",
       "\n",
       "  price                                           location         phone  \\\n",
       "0    $$  {'address1': '19 Old Fulton St', 'address2': '...  +17185966700   \n",
       "1     $  {'address1': '27 Prince St', 'address2': None,...  +12129664100   \n",
       "2    $$  {'address1': '235 Mulberry St', 'address2': ''...  +12129650500   \n",
       "\n",
       "    display_phone     distance  \n",
       "0  (718) 596-6700  1289.857286  \n",
       "1  (212) 966-4100  2209.311618  \n",
       "2  (212) 965-0500  2268.491950  "
      ]
     },
     "metadata": {},
     "output_type": "display_data"
    },
    {
     "data": {
      "text/html": [
       "<div>\n",
       "<style scoped>\n",
       "    .dataframe tbody tr th:only-of-type {\n",
       "        vertical-align: middle;\n",
       "    }\n",
       "\n",
       "    .dataframe tbody tr th {\n",
       "        vertical-align: top;\n",
       "    }\n",
       "\n",
       "    .dataframe thead th {\n",
       "        text-align: right;\n",
       "    }\n",
       "</style>\n",
       "<table border=\"1\" class=\"dataframe\">\n",
       "  <thead>\n",
       "    <tr style=\"text-align: right;\">\n",
       "      <th></th>\n",
       "      <th>id</th>\n",
       "      <th>alias</th>\n",
       "      <th>name</th>\n",
       "      <th>image_url</th>\n",
       "      <th>is_closed</th>\n",
       "      <th>url</th>\n",
       "      <th>review_count</th>\n",
       "      <th>categories</th>\n",
       "      <th>rating</th>\n",
       "      <th>coordinates</th>\n",
       "      <th>transactions</th>\n",
       "      <th>price</th>\n",
       "      <th>location</th>\n",
       "      <th>phone</th>\n",
       "      <th>display_phone</th>\n",
       "      <th>distance</th>\n",
       "    </tr>\n",
       "  </thead>\n",
       "  <tbody>\n",
       "    <tr>\n",
       "      <th>37</th>\n",
       "      <td>k3vbv0tbV83IrfaH2Z5t5Q</td>\n",
       "      <td>maneros-pizza-new-york</td>\n",
       "      <td>Manero's of Mulberry</td>\n",
       "      <td>https://s3-media1.fl.yelpcdn.com/bphoto/jHiIWR...</td>\n",
       "      <td>False</td>\n",
       "      <td>https://www.yelp.com/biz/maneros-pizza-new-yor...</td>\n",
       "      <td>92</td>\n",
       "      <td>[{'alias': 'pizza', 'title': 'Pizza'}]</td>\n",
       "      <td>4.5</td>\n",
       "      <td>{'latitude': 40.717593, 'longitude': -73.998396}</td>\n",
       "      <td>[pickup, delivery]</td>\n",
       "      <td>NaN</td>\n",
       "      <td>{'address1': '113 Mulberry St', 'address2': ''...</td>\n",
       "      <td>+12129616183</td>\n",
       "      <td>(212) 961-6183</td>\n",
       "      <td>2009.275200</td>\n",
       "    </tr>\n",
       "    <tr>\n",
       "      <th>38</th>\n",
       "      <td>vyoA8dxwScuMV_AsTcjQcg</td>\n",
       "      <td>l-and-b-spumoni-gardens-brooklyn</td>\n",
       "      <td>L &amp; B Spumoni Gardens</td>\n",
       "      <td>https://s3-media1.fl.yelpcdn.com/bphoto/hN5xKw...</td>\n",
       "      <td>False</td>\n",
       "      <td>https://www.yelp.com/biz/l-and-b-spumoni-garde...</td>\n",
       "      <td>4556</td>\n",
       "      <td>[{'alias': 'pizza', 'title': 'Pizza'}, {'alias...</td>\n",
       "      <td>4.0</td>\n",
       "      <td>{'latitude': 40.594715, 'longitude': -73.981316}</td>\n",
       "      <td>[pickup, delivery]</td>\n",
       "      <td>$</td>\n",
       "      <td>{'address1': '2725 86th St', 'address2': '', '...</td>\n",
       "      <td>+17184491230</td>\n",
       "      <td>(718) 449-1230</td>\n",
       "      <td>12484.322061</td>\n",
       "    </tr>\n",
       "    <tr>\n",
       "      <th>39</th>\n",
       "      <td>AHDlsNh8fODK9miC3zv3Zg</td>\n",
       "      <td>unregular-pizza-new-york-2</td>\n",
       "      <td>Unregular Pizza</td>\n",
       "      <td>https://s3-media4.fl.yelpcdn.com/bphoto/o91Xby...</td>\n",
       "      <td>False</td>\n",
       "      <td>https://www.yelp.com/biz/unregular-pizza-new-y...</td>\n",
       "      <td>205</td>\n",
       "      <td>[{'alias': 'pizza', 'title': 'Pizza'}]</td>\n",
       "      <td>4.5</td>\n",
       "      <td>{'latitude': 40.73398, 'longitude': -73.98961}</td>\n",
       "      <td>[pickup, delivery]</td>\n",
       "      <td>$$</td>\n",
       "      <td>{'address1': '135 4th Ave', 'address2': None, ...</td>\n",
       "      <td>+16466094699</td>\n",
       "      <td>(646) 609-4699</td>\n",
       "      <td>3094.834457</td>\n",
       "    </tr>\n",
       "  </tbody>\n",
       "</table>\n",
       "</div>"
      ],
      "text/plain": [
       "                        id                             alias  \\\n",
       "37  k3vbv0tbV83IrfaH2Z5t5Q            maneros-pizza-new-york   \n",
       "38  vyoA8dxwScuMV_AsTcjQcg  l-and-b-spumoni-gardens-brooklyn   \n",
       "39  AHDlsNh8fODK9miC3zv3Zg        unregular-pizza-new-york-2   \n",
       "\n",
       "                     name                                          image_url  \\\n",
       "37   Manero's of Mulberry  https://s3-media1.fl.yelpcdn.com/bphoto/jHiIWR...   \n",
       "38  L & B Spumoni Gardens  https://s3-media1.fl.yelpcdn.com/bphoto/hN5xKw...   \n",
       "39        Unregular Pizza  https://s3-media4.fl.yelpcdn.com/bphoto/o91Xby...   \n",
       "\n",
       "    is_closed                                                url  \\\n",
       "37      False  https://www.yelp.com/biz/maneros-pizza-new-yor...   \n",
       "38      False  https://www.yelp.com/biz/l-and-b-spumoni-garde...   \n",
       "39      False  https://www.yelp.com/biz/unregular-pizza-new-y...   \n",
       "\n",
       "    review_count                                         categories  rating  \\\n",
       "37            92             [{'alias': 'pizza', 'title': 'Pizza'}]     4.5   \n",
       "38          4556  [{'alias': 'pizza', 'title': 'Pizza'}, {'alias...     4.0   \n",
       "39           205             [{'alias': 'pizza', 'title': 'Pizza'}]     4.5   \n",
       "\n",
       "                                         coordinates        transactions  \\\n",
       "37  {'latitude': 40.717593, 'longitude': -73.998396}  [pickup, delivery]   \n",
       "38  {'latitude': 40.594715, 'longitude': -73.981316}  [pickup, delivery]   \n",
       "39    {'latitude': 40.73398, 'longitude': -73.98961}  [pickup, delivery]   \n",
       "\n",
       "   price                                           location         phone  \\\n",
       "37   NaN  {'address1': '113 Mulberry St', 'address2': ''...  +12129616183   \n",
       "38     $  {'address1': '2725 86th St', 'address2': '', '...  +17184491230   \n",
       "39    $$  {'address1': '135 4th Ave', 'address2': None, ...  +16466094699   \n",
       "\n",
       "     display_phone      distance  \n",
       "37  (212) 961-6183   2009.275200  \n",
       "38  (718) 449-1230  12484.322061  \n",
       "39  (646) 609-4699   3094.834457  "
      ]
     },
     "metadata": {},
     "output_type": "display_data"
    }
   ],
   "source": [
    "## concatenate the previous results and new results. \n",
    "businesses = pd.concat([biz, biz20],\n",
    "                      ignore_index=True)\n",
    "display(businesses.head(3), businesses.tail(3))"
   ]
  },
  {
   "cell_type": "code",
   "execution_count": null,
   "id": "095e52b5",
   "metadata": {},
   "outputs": [],
   "source": []
  }
 ],
 "metadata": {
  "kernelspec": {
   "display_name": "Python (dojo-env)",
   "language": "python",
   "name": "dojo-env"
  },
  "language_info": {
   "codemirror_mode": {
    "name": "ipython",
    "version": 3
   },
   "file_extension": ".py",
   "mimetype": "text/x-python",
   "name": "python",
   "nbconvert_exporter": "python",
   "pygments_lexer": "ipython3",
   "version": "3.9.15"
  },
  "toc": {
   "base_numbering": 1,
   "nav_menu": {},
   "number_sections": false,
   "sideBar": true,
   "skip_h1_title": false,
   "title_cell": "Table of Contents",
   "title_sidebar": "Contents",
   "toc_cell": false,
   "toc_position": {},
   "toc_section_display": true,
   "toc_window_display": false
  }
 },
 "nbformat": 4,
 "nbformat_minor": 5
}
